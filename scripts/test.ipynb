{
 "cells": [
  {
   "cell_type": "code",
   "execution_count": 2,
   "metadata": {
    "collapsed": true
   },
   "outputs": [],
   "source": [
    "import os\n",
    "import pandas as pd"
   ]
  },
  {
   "cell_type": "code",
   "execution_count": 3,
   "outputs": [
    {
     "data": {
      "text/plain": "'D:\\\\PycharmProjects\\\\KLib\\\\scripts'"
     },
     "execution_count": 3,
     "metadata": {},
     "output_type": "execute_result"
    }
   ],
   "source": [
    "os.getcwd()"
   ],
   "metadata": {
    "collapsed": false
   }
  },
  {
   "cell_type": "code",
   "execution_count": 6,
   "outputs": [
    {
     "data": {
      "text/plain": "                                            questionText  \\\n0      我女宝宝六个月了，过年前被传染支气管肺炎，现在才出院两天，还是有点喘气，每次吃牛奶都会拉大便...   \n1      急 急急，医生，宝宝肚子胀，昨天还吐，现在还在哭，在老家去药店也不方便，有什么药能喂她吃会好...   \n2      宝宝3个月，头上、眉毛、总是会长这些东西，用茶油擦洗可以洗的比较干净，但总是会反复长。请问头...   \n3      1，宝宝50天睡觉时老是摇头，睡不实，晚上容易醒，爱哭闹，请问是缺钙吗？有些什么措施可以改变...   \n4      宝宝纯奶粉喂养，每次吃完奶都会含一口奶在嘴里，嘴巴里面的奶都发酵了，导致嘴巴好臭，请问这么小...   \n...                                                  ...   \n25593  女宝宝四个月八天了，感觉腿有点像外歪的，还是长的太胖了的原因呢，体重8.5公斤。请问这种情况正常？   \n25594                                   医生，请问8个月卤门宽是缺钙么？   \n25595  忘抽中，急！医生您好，宝宝4个多月，出生到现在基本上每天都会吐奶，精神正常，出生6斤4，现在...   \n25596  宝宝从2个多月开始乳糖不耐受，后来经过4个多月才好，好了后一直不敢停乳糖酶，也添加了辅食，母...   \n25597  宝宝六个月，母乳喂养，男宝宝，这几天拉尿尿不湿里面有点红色的，是什么原因呢，还有就是这几天拉...   \n\n                                       answerVoiceScript  \\\n0      第一，要注意肺炎是否已经痊愈，还是还没完全好彻底，宝宝还有气促或喘息，最好带宝宝去医院，让医...   \n1      如果宝宝出现腹胀，且还频繁呕吐，要注意宝宝的排便情况如何？\\n\\n如果宝宝同时伴随着腹泻，要...   \n2      宝宝脸上、额头上、头发上的叫脂溢性皮炎，属于湿疹的一种。\\n\\n通常和个体体质有关，可能宝宝...   \n3      小宝宝睡觉时可能会通过摇晃脑袋这种方式来寻求自我安慰，如果宝宝晚上容易醒，要找原因。\\n\\n...   \n4      宝宝的口腔护理是很重要的，在宝宝乳牙萌出之前，宝宝的口腔护理要家长帮他进行。\\n\\n可以在每...   \n...                                                  ...   \n25593  如果宝宝是母乳喂养，暂时不需要干预，如果奶粉喂养，平常要多注重宝宝的运动量，包括让宝宝多趴、...   \n25594  如果宝宝的囟门比较宽，不一定是缺钙的表现，平常有注重补充生理量的维生素D即可。\\n\\n如果囟...   \n25595  宝宝出生后到现在的体重增长，还算是正常范围内，出生之后，每天都会有呕奶，不影响增长，有可能是...   \n25596  需要注意两点。\\n\\n第一，宝宝有没有可能合并病毒性肠炎的问题。病毒性肠炎有可能会有呕吐、拉...   \n25597  首先，要观察宝宝的尿道口有没有发红或异常的分泌物，需要警惕有没有尿路感染。\\n\\n因为尿路感...   \n\n                                             answerVoice questionTags  period  \n0      https://file.ihealthcoming.com/143e11dd-f572-4...    肠炎,肺炎,拉肚子     2.0  \n1      https://file.ihealthcoming.com/fa7db932-b590-4...       拉肚子,呕吐     2.0  \n2      https://file.ihealthcoming.com/ffd0c882-f94c-4...  脂溢性皮炎,湿疹,过敏     2.0  \n3      https://file.ihealthcoming.com/8ced5949-a9fe-4...       睡眠,易惊醒     2.0  \n4      https://file.ihealthcoming.com/efc3f327-608f-4...          鹅口疮     2.0  \n...                                                  ...          ...     ...  \n25593  https://file.ihealthcoming.com/817d8420-4a68-4...         生长发育     NaN  \n25594  https://file.ihealthcoming.com/a9b1d288-bc44-4...           其他     NaN  \n25595  https://file.ihealthcoming.com/1d25ed42-e852-4...   髋关节发育异常,吐奶     NaN  \n25596  https://file.ihealthcoming.com/50546ae2-e91a-4...     肠炎,辅食,便便     NaN  \n25597  https://file.ihealthcoming.com/f24e2dbd-238d-4...        尿道,尿液     NaN  \n\n[25598 rows x 5 columns]",
      "text/html": "<div>\n<style scoped>\n    .dataframe tbody tr th:only-of-type {\n        vertical-align: middle;\n    }\n\n    .dataframe tbody tr th {\n        vertical-align: top;\n    }\n\n    .dataframe thead th {\n        text-align: right;\n    }\n</style>\n<table border=\"1\" class=\"dataframe\">\n  <thead>\n    <tr style=\"text-align: right;\">\n      <th></th>\n      <th>questionText</th>\n      <th>answerVoiceScript</th>\n      <th>answerVoice</th>\n      <th>questionTags</th>\n      <th>period</th>\n    </tr>\n  </thead>\n  <tbody>\n    <tr>\n      <th>0</th>\n      <td>我女宝宝六个月了，过年前被传染支气管肺炎，现在才出院两天，还是有点喘气，每次吃牛奶都会拉大便...</td>\n      <td>第一，要注意肺炎是否已经痊愈，还是还没完全好彻底，宝宝还有气促或喘息，最好带宝宝去医院，让医...</td>\n      <td>https://file.ihealthcoming.com/143e11dd-f572-4...</td>\n      <td>肠炎,肺炎,拉肚子</td>\n      <td>2.0</td>\n    </tr>\n    <tr>\n      <th>1</th>\n      <td>急 急急，医生，宝宝肚子胀，昨天还吐，现在还在哭，在老家去药店也不方便，有什么药能喂她吃会好...</td>\n      <td>如果宝宝出现腹胀，且还频繁呕吐，要注意宝宝的排便情况如何？\\n\\n如果宝宝同时伴随着腹泻，要...</td>\n      <td>https://file.ihealthcoming.com/fa7db932-b590-4...</td>\n      <td>拉肚子,呕吐</td>\n      <td>2.0</td>\n    </tr>\n    <tr>\n      <th>2</th>\n      <td>宝宝3个月，头上、眉毛、总是会长这些东西，用茶油擦洗可以洗的比较干净，但总是会反复长。请问头...</td>\n      <td>宝宝脸上、额头上、头发上的叫脂溢性皮炎，属于湿疹的一种。\\n\\n通常和个体体质有关，可能宝宝...</td>\n      <td>https://file.ihealthcoming.com/ffd0c882-f94c-4...</td>\n      <td>脂溢性皮炎,湿疹,过敏</td>\n      <td>2.0</td>\n    </tr>\n    <tr>\n      <th>3</th>\n      <td>1，宝宝50天睡觉时老是摇头，睡不实，晚上容易醒，爱哭闹，请问是缺钙吗？有些什么措施可以改变...</td>\n      <td>小宝宝睡觉时可能会通过摇晃脑袋这种方式来寻求自我安慰，如果宝宝晚上容易醒，要找原因。\\n\\n...</td>\n      <td>https://file.ihealthcoming.com/8ced5949-a9fe-4...</td>\n      <td>睡眠,易惊醒</td>\n      <td>2.0</td>\n    </tr>\n    <tr>\n      <th>4</th>\n      <td>宝宝纯奶粉喂养，每次吃完奶都会含一口奶在嘴里，嘴巴里面的奶都发酵了，导致嘴巴好臭，请问这么小...</td>\n      <td>宝宝的口腔护理是很重要的，在宝宝乳牙萌出之前，宝宝的口腔护理要家长帮他进行。\\n\\n可以在每...</td>\n      <td>https://file.ihealthcoming.com/efc3f327-608f-4...</td>\n      <td>鹅口疮</td>\n      <td>2.0</td>\n    </tr>\n    <tr>\n      <th>...</th>\n      <td>...</td>\n      <td>...</td>\n      <td>...</td>\n      <td>...</td>\n      <td>...</td>\n    </tr>\n    <tr>\n      <th>25593</th>\n      <td>女宝宝四个月八天了，感觉腿有点像外歪的，还是长的太胖了的原因呢，体重8.5公斤。请问这种情况正常？</td>\n      <td>如果宝宝是母乳喂养，暂时不需要干预，如果奶粉喂养，平常要多注重宝宝的运动量，包括让宝宝多趴、...</td>\n      <td>https://file.ihealthcoming.com/817d8420-4a68-4...</td>\n      <td>生长发育</td>\n      <td>NaN</td>\n    </tr>\n    <tr>\n      <th>25594</th>\n      <td>医生，请问8个月卤门宽是缺钙么？</td>\n      <td>如果宝宝的囟门比较宽，不一定是缺钙的表现，平常有注重补充生理量的维生素D即可。\\n\\n如果囟...</td>\n      <td>https://file.ihealthcoming.com/a9b1d288-bc44-4...</td>\n      <td>其他</td>\n      <td>NaN</td>\n    </tr>\n    <tr>\n      <th>25595</th>\n      <td>忘抽中，急！医生您好，宝宝4个多月，出生到现在基本上每天都会吐奶，精神正常，出生6斤4，现在...</td>\n      <td>宝宝出生后到现在的体重增长，还算是正常范围内，出生之后，每天都会有呕奶，不影响增长，有可能是...</td>\n      <td>https://file.ihealthcoming.com/1d25ed42-e852-4...</td>\n      <td>髋关节发育异常,吐奶</td>\n      <td>NaN</td>\n    </tr>\n    <tr>\n      <th>25596</th>\n      <td>宝宝从2个多月开始乳糖不耐受，后来经过4个多月才好，好了后一直不敢停乳糖酶，也添加了辅食，母...</td>\n      <td>需要注意两点。\\n\\n第一，宝宝有没有可能合并病毒性肠炎的问题。病毒性肠炎有可能会有呕吐、拉...</td>\n      <td>https://file.ihealthcoming.com/50546ae2-e91a-4...</td>\n      <td>肠炎,辅食,便便</td>\n      <td>NaN</td>\n    </tr>\n    <tr>\n      <th>25597</th>\n      <td>宝宝六个月，母乳喂养，男宝宝，这几天拉尿尿不湿里面有点红色的，是什么原因呢，还有就是这几天拉...</td>\n      <td>首先，要观察宝宝的尿道口有没有发红或异常的分泌物，需要警惕有没有尿路感染。\\n\\n因为尿路感...</td>\n      <td>https://file.ihealthcoming.com/f24e2dbd-238d-4...</td>\n      <td>尿道,尿液</td>\n      <td>NaN</td>\n    </tr>\n  </tbody>\n</table>\n<p>25598 rows × 5 columns</p>\n</div>"
     },
     "execution_count": 6,
     "metadata": {},
     "output_type": "execute_result"
    }
   ],
   "source": [
    "pd.read_csv(\"../data/raw_data.csv\")"
   ],
   "metadata": {
    "collapsed": false
   }
  },
  {
   "cell_type": "code",
   "execution_count": null,
   "outputs": [],
   "source": [],
   "metadata": {
    "collapsed": false
   }
  }
 ],
 "metadata": {
  "kernelspec": {
   "display_name": "Python 3",
   "language": "python",
   "name": "python3"
  },
  "language_info": {
   "codemirror_mode": {
    "name": "ipython",
    "version": 2
   },
   "file_extension": ".py",
   "mimetype": "text/x-python",
   "name": "python",
   "nbconvert_exporter": "python",
   "pygments_lexer": "ipython2",
   "version": "2.7.6"
  }
 },
 "nbformat": 4,
 "nbformat_minor": 0
}
