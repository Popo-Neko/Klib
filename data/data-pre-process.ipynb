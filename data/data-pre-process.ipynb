{
 "cells": [
  {
   "cell_type": "code",
   "execution_count": 2,
   "outputs": [
    {
     "data": {
      "text/plain": "'D:\\\\PycharmProjects\\\\KLib\\\\data'"
     },
     "execution_count": 2,
     "metadata": {},
     "output_type": "execute_result"
    }
   ],
   "source": [
    "import pandas as pd\n",
    "from tqdm import tqdm\n",
    "from key_words import illness, fetus, production, Nutrition, test\n",
    "import os\n",
    "import chardet\n",
    "from utils import contain_keyword\n",
    "cwd = os.getcwd()\n",
    "def get_path(filename):\n",
    "    return os.path.join(cwd, filename)\n",
    "cwd"
   ],
   "metadata": {
    "collapsed": false
   }
  },
  {
   "cell_type": "code",
   "execution_count": 35,
   "outputs": [],
   "source": [
    "# with open(get_path(\"test_data4type(ansi).csv\"), mode=\"rb\") as f:\n",
    "#     content = f.read()\n",
    "#     result = chardet.detect(content)\n",
    "dic1 = {}\n",
    "col = \"column\"\n",
    "column_names = [f\"column{i}\" for i in range(1, 6)]\n",
    "dic1 = {column_names[i]: i for i in range(0, 5) }\n",
    "df = pd.DataFrame(dic1, index=[i for i in range(0, 5)])\n",
    "df.to_csv(get_path(\"../temp_files/example_table.csv\"), index=False)"
   ],
   "metadata": {
    "collapsed": false
   }
  },
  {
   "cell_type": "code",
   "execution_count": 10,
   "outputs": [],
   "source": [
    "df = pd.read_csv(get_path(\"train_data4type(utf-8-sig).csv\"), encoding='utf-8-sig')\n",
    "df.to_csv(get_path(\"train_data4type(utf-8).csv\"), index=False, encoding='utf-8')"
   ],
   "metadata": {
    "collapsed": false
   }
  },
  {
   "cell_type": "code",
   "execution_count": 16,
   "outputs": [
    {
     "ename": "AssertionError",
     "evalue": "",
     "output_type": "error",
     "traceback": [
      "\u001B[1;31m---------------------------------------------------------------------------\u001B[0m",
      "\u001B[1;31mAssertionError\u001B[0m                            Traceback (most recent call last)",
      "\u001B[1;32m~\\AppData\\Local\\Temp\\ipykernel_9456\\209861230.py\u001B[0m in \u001B[0;36m<module>\u001B[1;34m\u001B[0m\n\u001B[0;32m     25\u001B[0m \u001B[0ma\u001B[0m \u001B[1;33m=\u001B[0m \u001B[1;33m[\u001B[0m\u001B[1;36m1\u001B[0m\u001B[1;33m,\u001B[0m \u001B[1;34m'da'\u001B[0m\u001B[1;33m]\u001B[0m\u001B[1;33m\u001B[0m\u001B[1;33m\u001B[0m\u001B[0m\n\u001B[0;32m     26\u001B[0m \u001B[0ma\u001B[0m \u001B[1;33m=\u001B[0m \u001B[0mLabels\u001B[0m\u001B[1;33m(\u001B[0m\u001B[0ma\u001B[0m\u001B[1;33m,\u001B[0m \u001B[1;34m'1'\u001B[0m\u001B[1;33m)\u001B[0m\u001B[1;33m\u001B[0m\u001B[1;33m\u001B[0m\u001B[0m\n\u001B[1;32m---> 27\u001B[1;33m \u001B[1;32mfor\u001B[0m \u001B[0mi\u001B[0m \u001B[1;32min\u001B[0m \u001B[0miter\u001B[0m\u001B[1;33m(\u001B[0m\u001B[0ma\u001B[0m\u001B[1;33m)\u001B[0m\u001B[1;33m:\u001B[0m\u001B[1;33m\u001B[0m\u001B[1;33m\u001B[0m\u001B[0m\n\u001B[0m\u001B[0;32m     28\u001B[0m     \u001B[0mprint\u001B[0m\u001B[1;33m(\u001B[0m\u001B[0mi\u001B[0m\u001B[1;33m)\u001B[0m\u001B[1;33m\u001B[0m\u001B[1;33m\u001B[0m\u001B[0m\n",
      "\u001B[1;32m~\\AppData\\Local\\Temp\\ipykernel_9456\\209861230.py\u001B[0m in \u001B[0;36m__next__\u001B[1;34m(self)\u001B[0m\n\u001B[0;32m     20\u001B[0m         \u001B[0mvalue\u001B[0m \u001B[1;33m=\u001B[0m \u001B[0mself\u001B[0m\u001B[1;33m.\u001B[0m\u001B[0mkeywords\u001B[0m\u001B[1;33m[\u001B[0m\u001B[0mself\u001B[0m\u001B[1;33m.\u001B[0m\u001B[0mindex\u001B[0m\u001B[1;33m]\u001B[0m\u001B[1;33m\u001B[0m\u001B[1;33m\u001B[0m\u001B[0m\n\u001B[0;32m     21\u001B[0m         \u001B[0mself\u001B[0m\u001B[1;33m.\u001B[0m\u001B[0mindex\u001B[0m \u001B[1;33m+=\u001B[0m \u001B[1;36m1\u001B[0m\u001B[1;33m\u001B[0m\u001B[1;33m\u001B[0m\u001B[0m\n\u001B[1;32m---> 22\u001B[1;33m         \u001B[1;32massert\u001B[0m \u001B[0mtype\u001B[0m\u001B[1;33m(\u001B[0m\u001B[0mvalue\u001B[0m\u001B[1;33m)\u001B[0m \u001B[1;33m==\u001B[0m \u001B[0mstr\u001B[0m\u001B[1;33m\u001B[0m\u001B[1;33m\u001B[0m\u001B[0m\n\u001B[0m\u001B[0;32m     23\u001B[0m         \u001B[1;32mreturn\u001B[0m \u001B[0mvalue\u001B[0m\u001B[1;33m\u001B[0m\u001B[1;33m\u001B[0m\u001B[0m\n\u001B[0;32m     24\u001B[0m \u001B[1;33m\u001B[0m\u001B[0m\n",
      "\u001B[1;31mAssertionError\u001B[0m: "
     ]
    }
   ],
   "source": [
    "class Labels:\n",
    "    def __init__(self, keywords, name):\n",
    "        self.keywords = keywords\n",
    "        self.name = name\n",
    "        self.index = 0\n",
    "\n",
    "    def __len__(self):\n",
    "        return len(self.keywords)\n",
    "\n",
    "    def __getitem__(self, index):\n",
    "        return self.keywords[index]\n",
    "\n",
    "    def __iter__(self):\n",
    "        self.index = 0\n",
    "        return self\n",
    "\n",
    "    def __next__(self):\n",
    "        if self.index >= len(self.keywords):\n",
    "            raise StopIteration\n",
    "        value = self.keywords[self.index]\n",
    "        self.index += 1\n",
    "        return value\n",
    "\n",
    "a = [1, 'da']\n",
    "a = Labels(a, '1')\n",
    "for i in iter(a):\n",
    "    print(i)"
   ],
   "metadata": {
    "collapsed": false
   }
  },
  {
   "cell_type": "code",
   "execution_count": 18,
   "outputs": [
    {
     "ename": "AssertionError",
     "evalue": "",
     "output_type": "error",
     "traceback": [
      "\u001B[1;31m---------------------------------------------------------------------------\u001B[0m",
      "\u001B[1;31mAssertionError\u001B[0m                            Traceback (most recent call last)",
      "\u001B[1;32m~\\AppData\\Local\\Temp\\ipykernel_9456\\2220544376.py\u001B[0m in \u001B[0;36m<module>\u001B[1;34m\u001B[0m\n\u001B[1;32m----> 1\u001B[1;33m \u001B[1;32mfor\u001B[0m \u001B[0mi\u001B[0m \u001B[1;32min\u001B[0m \u001B[0ma\u001B[0m\u001B[1;33m:\u001B[0m\u001B[1;33m\u001B[0m\u001B[1;33m\u001B[0m\u001B[0m\n\u001B[0m\u001B[0;32m      2\u001B[0m     \u001B[0mprint\u001B[0m\u001B[1;33m(\u001B[0m\u001B[0mi\u001B[0m\u001B[1;33m)\u001B[0m\u001B[1;33m\u001B[0m\u001B[1;33m\u001B[0m\u001B[0m\n",
      "\u001B[1;32m~\\AppData\\Local\\Temp\\ipykernel_9456\\209861230.py\u001B[0m in \u001B[0;36m__next__\u001B[1;34m(self)\u001B[0m\n\u001B[0;32m     20\u001B[0m         \u001B[0mvalue\u001B[0m \u001B[1;33m=\u001B[0m \u001B[0mself\u001B[0m\u001B[1;33m.\u001B[0m\u001B[0mkeywords\u001B[0m\u001B[1;33m[\u001B[0m\u001B[0mself\u001B[0m\u001B[1;33m.\u001B[0m\u001B[0mindex\u001B[0m\u001B[1;33m]\u001B[0m\u001B[1;33m\u001B[0m\u001B[1;33m\u001B[0m\u001B[0m\n\u001B[0;32m     21\u001B[0m         \u001B[0mself\u001B[0m\u001B[1;33m.\u001B[0m\u001B[0mindex\u001B[0m \u001B[1;33m+=\u001B[0m \u001B[1;36m1\u001B[0m\u001B[1;33m\u001B[0m\u001B[1;33m\u001B[0m\u001B[0m\n\u001B[1;32m---> 22\u001B[1;33m         \u001B[1;32massert\u001B[0m \u001B[0mtype\u001B[0m\u001B[1;33m(\u001B[0m\u001B[0mvalue\u001B[0m\u001B[1;33m)\u001B[0m \u001B[1;33m==\u001B[0m \u001B[0mstr\u001B[0m\u001B[1;33m\u001B[0m\u001B[1;33m\u001B[0m\u001B[0m\n\u001B[0m\u001B[0;32m     23\u001B[0m         \u001B[1;32mreturn\u001B[0m \u001B[0mvalue\u001B[0m\u001B[1;33m\u001B[0m\u001B[1;33m\u001B[0m\u001B[0m\n\u001B[0;32m     24\u001B[0m \u001B[1;33m\u001B[0m\u001B[0m\n",
      "\u001B[1;31mAssertionError\u001B[0m: "
     ]
    }
   ],
   "source": [
    "\n",
    "for i in a:\n",
    "    print(i)"
   ],
   "metadata": {
    "collapsed": false
   }
  },
  {
   "cell_type": "code",
   "execution_count": 13,
   "outputs": [
    {
     "ename": "UnicodeDecodeError",
     "evalue": "'gb2312' codec can't decode byte 0x87 in position 20328: illegal multibyte sequence",
     "output_type": "error",
     "traceback": [
      "\u001B[1;31m---------------------------------------------------------------------------\u001B[0m",
      "\u001B[1;31mUnicodeDecodeError\u001B[0m                        Traceback (most recent call last)",
      "\u001B[1;32m~\\AppData\\Local\\Temp\\ipykernel_3236\\944049046.py\u001B[0m in \u001B[0;36m<module>\u001B[1;34m\u001B[0m\n\u001B[0;32m      3\u001B[0m     \u001B[0mcontent\u001B[0m \u001B[1;33m=\u001B[0m \u001B[0mf\u001B[0m\u001B[1;33m.\u001B[0m\u001B[0mread\u001B[0m\u001B[1;33m(\u001B[0m\u001B[1;33m)\u001B[0m\u001B[1;33m\u001B[0m\u001B[1;33m\u001B[0m\u001B[0m\n\u001B[0;32m      4\u001B[0m     \u001B[0mresult\u001B[0m \u001B[1;33m=\u001B[0m \u001B[0mchardet\u001B[0m\u001B[1;33m.\u001B[0m\u001B[0mdetect\u001B[0m\u001B[1;33m(\u001B[0m\u001B[0mcontent\u001B[0m\u001B[1;33m)\u001B[0m\u001B[1;33m\u001B[0m\u001B[1;33m\u001B[0m\u001B[0m\n\u001B[1;32m----> 5\u001B[1;33m \u001B[0mdf_raw\u001B[0m \u001B[1;33m=\u001B[0m \u001B[0mpd\u001B[0m\u001B[1;33m.\u001B[0m\u001B[0mread_csv\u001B[0m\u001B[1;33m(\u001B[0m\u001B[0mget_path\u001B[0m\u001B[1;33m(\u001B[0m\u001B[1;34m\"test_data4type(ansi).csv\"\u001B[0m\u001B[1;33m)\u001B[0m\u001B[1;33m,\u001B[0m \u001B[0mencoding\u001B[0m\u001B[1;33m=\u001B[0m\u001B[0mresult\u001B[0m\u001B[1;33m[\u001B[0m\u001B[1;34m'encoding'\u001B[0m\u001B[1;33m]\u001B[0m\u001B[1;33m)\u001B[0m\u001B[1;33m\u001B[0m\u001B[1;33m\u001B[0m\u001B[0m\n\u001B[0m\u001B[0;32m      6\u001B[0m \u001B[0mdf_raw\u001B[0m\u001B[1;33m\u001B[0m\u001B[1;33m\u001B[0m\u001B[0m\n",
      "\u001B[1;32mD:\\Anaconda\\Ananconda3\\envs\\torch_project\\lib\\site-packages\\pandas\\io\\parsers.py\u001B[0m in \u001B[0;36mread_csv\u001B[1;34m(filepath_or_buffer, sep, delimiter, header, names, index_col, usecols, squeeze, prefix, mangle_dupe_cols, dtype, engine, converters, true_values, false_values, skipinitialspace, skiprows, skipfooter, nrows, na_values, keep_default_na, na_filter, verbose, skip_blank_lines, parse_dates, infer_datetime_format, keep_date_col, date_parser, dayfirst, cache_dates, iterator, chunksize, compression, thousands, decimal, lineterminator, quotechar, quoting, doublequote, escapechar, comment, encoding, dialect, error_bad_lines, warn_bad_lines, delim_whitespace, low_memory, memory_map, float_precision, storage_options)\u001B[0m\n\u001B[0;32m    608\u001B[0m     \u001B[0mkwds\u001B[0m\u001B[1;33m.\u001B[0m\u001B[0mupdate\u001B[0m\u001B[1;33m(\u001B[0m\u001B[0mkwds_defaults\u001B[0m\u001B[1;33m)\u001B[0m\u001B[1;33m\u001B[0m\u001B[1;33m\u001B[0m\u001B[0m\n\u001B[0;32m    609\u001B[0m \u001B[1;33m\u001B[0m\u001B[0m\n\u001B[1;32m--> 610\u001B[1;33m     \u001B[1;32mreturn\u001B[0m \u001B[0m_read\u001B[0m\u001B[1;33m(\u001B[0m\u001B[0mfilepath_or_buffer\u001B[0m\u001B[1;33m,\u001B[0m \u001B[0mkwds\u001B[0m\u001B[1;33m)\u001B[0m\u001B[1;33m\u001B[0m\u001B[1;33m\u001B[0m\u001B[0m\n\u001B[0m\u001B[0;32m    611\u001B[0m \u001B[1;33m\u001B[0m\u001B[0m\n\u001B[0;32m    612\u001B[0m \u001B[1;33m\u001B[0m\u001B[0m\n",
      "\u001B[1;32mD:\\Anaconda\\Ananconda3\\envs\\torch_project\\lib\\site-packages\\pandas\\io\\parsers.py\u001B[0m in \u001B[0;36m_read\u001B[1;34m(filepath_or_buffer, kwds)\u001B[0m\n\u001B[0;32m    460\u001B[0m \u001B[1;33m\u001B[0m\u001B[0m\n\u001B[0;32m    461\u001B[0m     \u001B[1;31m# Create the parser.\u001B[0m\u001B[1;33m\u001B[0m\u001B[1;33m\u001B[0m\u001B[0m\n\u001B[1;32m--> 462\u001B[1;33m     \u001B[0mparser\u001B[0m \u001B[1;33m=\u001B[0m \u001B[0mTextFileReader\u001B[0m\u001B[1;33m(\u001B[0m\u001B[0mfilepath_or_buffer\u001B[0m\u001B[1;33m,\u001B[0m \u001B[1;33m**\u001B[0m\u001B[0mkwds\u001B[0m\u001B[1;33m)\u001B[0m\u001B[1;33m\u001B[0m\u001B[1;33m\u001B[0m\u001B[0m\n\u001B[0m\u001B[0;32m    463\u001B[0m \u001B[1;33m\u001B[0m\u001B[0m\n\u001B[0;32m    464\u001B[0m     \u001B[1;32mif\u001B[0m \u001B[0mchunksize\u001B[0m \u001B[1;32mor\u001B[0m \u001B[0miterator\u001B[0m\u001B[1;33m:\u001B[0m\u001B[1;33m\u001B[0m\u001B[1;33m\u001B[0m\u001B[0m\n",
      "\u001B[1;32mD:\\Anaconda\\Ananconda3\\envs\\torch_project\\lib\\site-packages\\pandas\\io\\parsers.py\u001B[0m in \u001B[0;36m__init__\u001B[1;34m(self, f, engine, **kwds)\u001B[0m\n\u001B[0;32m    817\u001B[0m             \u001B[0mself\u001B[0m\u001B[1;33m.\u001B[0m\u001B[0moptions\u001B[0m\u001B[1;33m[\u001B[0m\u001B[1;34m\"has_index_names\"\u001B[0m\u001B[1;33m]\u001B[0m \u001B[1;33m=\u001B[0m \u001B[0mkwds\u001B[0m\u001B[1;33m[\u001B[0m\u001B[1;34m\"has_index_names\"\u001B[0m\u001B[1;33m]\u001B[0m\u001B[1;33m\u001B[0m\u001B[1;33m\u001B[0m\u001B[0m\n\u001B[0;32m    818\u001B[0m \u001B[1;33m\u001B[0m\u001B[0m\n\u001B[1;32m--> 819\u001B[1;33m         \u001B[0mself\u001B[0m\u001B[1;33m.\u001B[0m\u001B[0m_engine\u001B[0m \u001B[1;33m=\u001B[0m \u001B[0mself\u001B[0m\u001B[1;33m.\u001B[0m\u001B[0m_make_engine\u001B[0m\u001B[1;33m(\u001B[0m\u001B[0mself\u001B[0m\u001B[1;33m.\u001B[0m\u001B[0mengine\u001B[0m\u001B[1;33m)\u001B[0m\u001B[1;33m\u001B[0m\u001B[1;33m\u001B[0m\u001B[0m\n\u001B[0m\u001B[0;32m    820\u001B[0m \u001B[1;33m\u001B[0m\u001B[0m\n\u001B[0;32m    821\u001B[0m     \u001B[1;32mdef\u001B[0m \u001B[0mclose\u001B[0m\u001B[1;33m(\u001B[0m\u001B[0mself\u001B[0m\u001B[1;33m)\u001B[0m\u001B[1;33m:\u001B[0m\u001B[1;33m\u001B[0m\u001B[1;33m\u001B[0m\u001B[0m\n",
      "\u001B[1;32mD:\\Anaconda\\Ananconda3\\envs\\torch_project\\lib\\site-packages\\pandas\\io\\parsers.py\u001B[0m in \u001B[0;36m_make_engine\u001B[1;34m(self, engine)\u001B[0m\n\u001B[0;32m   1048\u001B[0m             )\n\u001B[0;32m   1049\u001B[0m         \u001B[1;31m# error: Too many arguments for \"ParserBase\"\u001B[0m\u001B[1;33m\u001B[0m\u001B[1;33m\u001B[0m\u001B[0m\n\u001B[1;32m-> 1050\u001B[1;33m         \u001B[1;32mreturn\u001B[0m \u001B[0mmapping\u001B[0m\u001B[1;33m[\u001B[0m\u001B[0mengine\u001B[0m\u001B[1;33m]\u001B[0m\u001B[1;33m(\u001B[0m\u001B[0mself\u001B[0m\u001B[1;33m.\u001B[0m\u001B[0mf\u001B[0m\u001B[1;33m,\u001B[0m \u001B[1;33m**\u001B[0m\u001B[0mself\u001B[0m\u001B[1;33m.\u001B[0m\u001B[0moptions\u001B[0m\u001B[1;33m)\u001B[0m  \u001B[1;31m# type: ignore[call-arg]\u001B[0m\u001B[1;33m\u001B[0m\u001B[1;33m\u001B[0m\u001B[0m\n\u001B[0m\u001B[0;32m   1051\u001B[0m \u001B[1;33m\u001B[0m\u001B[0m\n\u001B[0;32m   1052\u001B[0m     \u001B[1;32mdef\u001B[0m \u001B[0m_failover_to_python\u001B[0m\u001B[1;33m(\u001B[0m\u001B[0mself\u001B[0m\u001B[1;33m)\u001B[0m\u001B[1;33m:\u001B[0m\u001B[1;33m\u001B[0m\u001B[1;33m\u001B[0m\u001B[0m\n",
      "\u001B[1;32mD:\\Anaconda\\Ananconda3\\envs\\torch_project\\lib\\site-packages\\pandas\\io\\parsers.py\u001B[0m in \u001B[0;36m__init__\u001B[1;34m(self, src, **kwds)\u001B[0m\n\u001B[0;32m   1896\u001B[0m \u001B[1;33m\u001B[0m\u001B[0m\n\u001B[0;32m   1897\u001B[0m         \u001B[1;32mtry\u001B[0m\u001B[1;33m:\u001B[0m\u001B[1;33m\u001B[0m\u001B[1;33m\u001B[0m\u001B[0m\n\u001B[1;32m-> 1898\u001B[1;33m             \u001B[0mself\u001B[0m\u001B[1;33m.\u001B[0m\u001B[0m_reader\u001B[0m \u001B[1;33m=\u001B[0m \u001B[0mparsers\u001B[0m\u001B[1;33m.\u001B[0m\u001B[0mTextReader\u001B[0m\u001B[1;33m(\u001B[0m\u001B[0mself\u001B[0m\u001B[1;33m.\u001B[0m\u001B[0mhandles\u001B[0m\u001B[1;33m.\u001B[0m\u001B[0mhandle\u001B[0m\u001B[1;33m,\u001B[0m \u001B[1;33m**\u001B[0m\u001B[0mkwds\u001B[0m\u001B[1;33m)\u001B[0m\u001B[1;33m\u001B[0m\u001B[1;33m\u001B[0m\u001B[0m\n\u001B[0m\u001B[0;32m   1899\u001B[0m         \u001B[1;32mexcept\u001B[0m \u001B[0mException\u001B[0m\u001B[1;33m:\u001B[0m\u001B[1;33m\u001B[0m\u001B[1;33m\u001B[0m\u001B[0m\n\u001B[0;32m   1900\u001B[0m             \u001B[0mself\u001B[0m\u001B[1;33m.\u001B[0m\u001B[0mhandles\u001B[0m\u001B[1;33m.\u001B[0m\u001B[0mclose\u001B[0m\u001B[1;33m(\u001B[0m\u001B[1;33m)\u001B[0m\u001B[1;33m\u001B[0m\u001B[1;33m\u001B[0m\u001B[0m\n",
      "\u001B[1;32mpandas\\_libs\\parsers.pyx\u001B[0m in \u001B[0;36mpandas._libs.parsers.TextReader.__cinit__\u001B[1;34m()\u001B[0m\n",
      "\u001B[1;32mpandas\\_libs\\parsers.pyx\u001B[0m in \u001B[0;36mpandas._libs.parsers.TextReader._get_header\u001B[1;34m()\u001B[0m\n",
      "\u001B[1;32mpandas\\_libs\\parsers.pyx\u001B[0m in \u001B[0;36mpandas._libs.parsers.TextReader._tokenize_rows\u001B[1;34m()\u001B[0m\n",
      "\u001B[1;32mpandas\\_libs\\parsers.pyx\u001B[0m in \u001B[0;36mpandas._libs.parsers.raise_parser_error\u001B[1;34m()\u001B[0m\n",
      "\u001B[1;31mUnicodeDecodeError\u001B[0m: 'gb2312' codec can't decode byte 0x87 in position 20328: illegal multibyte sequence"
     ]
    }
   ],
   "source": [
    "import chardet\n",
    "with open(get_path(\"test_data4type(ansi).csv\"), mode='rb') as f:\n",
    "    content = f.read()\n",
    "    result = chardet.detect(content)\n",
    "df_raw = pd.read_csv(get_path(\"test_data4type(ansi).csv\"), encoding=result['encoding'])\n",
    "df_raw"
   ],
   "metadata": {
    "collapsed": false
   }
  },
  {
   "cell_type": "code",
   "execution_count": 8,
   "outputs": [
    {
     "name": "stderr",
     "output_type": "stream",
     "text": [
      "100%|██████████| 23/23 [00:00<00:00, 67.32it/s]\n",
      "100%|██████████| 7/7 [00:00<00:00, 60.00it/s]\n",
      "100%|██████████| 28/28 [00:00<00:00, 94.01it/s]\n",
      "100%|██████████| 7/7 [00:00<00:00, 64.53it/s]\n",
      "100%|██████████| 10/10 [00:00<00:00, 103.60it/s]\n"
     ]
    }
   ],
   "source": [
    "dic1 = {}\n",
    "for j in [illness, Nutrition, test, fetus, production]:\n",
    "    for i in tqdm(j):\n",
    "        dic1[i.name] = df_raw['questionText'].apply(contain_keyword, args=(i.keywords,))"
   ],
   "metadata": {
    "collapsed": false
   }
  },
  {
   "cell_type": "code",
   "execution_count": 9,
   "outputs": [
    {
     "data": {
      "text/plain": "{'阴道私处': 0        False\n 1        False\n 2        False\n 3        False\n 4        False\n          ...  \n 14448    False\n 14449    False\n 14450    False\n 14451    False\n 14452    False\n Name: questionText, Length: 14453, dtype: bool,\n '妊娠期贫血': 0        False\n 1        False\n 2        False\n 3        False\n 4        False\n          ...  \n 14448    False\n 14449    False\n 14450    False\n 14451    False\n 14452    False\n Name: questionText, Length: 14453, dtype: bool,\n '孕期糖尿病': 0        False\n 1        False\n 2        False\n 3        False\n 4        False\n          ...  \n 14448    False\n 14449    False\n 14450    False\n 14451    False\n 14452    False\n Name: questionText, Length: 14453, dtype: bool,\n '孕期高血压': 0        False\n 1        False\n 2        False\n 3        False\n 4        False\n          ...  \n 14448    False\n 14449    False\n 14450    False\n 14451    False\n 14452    False\n Name: questionText, Length: 14453, dtype: bool,\n '甲状腺疾病': 0        False\n 1        False\n 2        False\n 3        False\n 4        False\n          ...  \n 14448    False\n 14449    False\n 14450    False\n 14451    False\n 14452    False\n Name: questionText, Length: 14453, dtype: bool,\n '静脉曲张(下肢青筋)': 0        False\n 1        False\n 2        False\n 3        False\n 4        False\n          ...  \n 14448    False\n 14449    False\n 14450    False\n 14451    False\n 14452    False\n Name: questionText, Length: 14453, dtype: bool,\n '湿疹': 0        False\n 1        False\n 2        False\n 3        False\n 4        False\n          ...  \n 14448    False\n 14449    False\n 14450    False\n 14451    False\n 14452    False\n Name: questionText, Length: 14453, dtype: bool,\n '痔疮': 0        False\n 1        False\n 2        False\n 3        False\n 4        False\n          ...  \n 14448    False\n 14449    False\n 14450    False\n 14451    False\n 14452    False\n Name: questionText, Length: 14453, dtype: bool,\n '孕期感冒': 0        False\n 1        False\n 2        False\n 3        False\n 4        False\n          ...  \n 14448    False\n 14449    False\n 14450    False\n 14451    False\n 14452    False\n Name: questionText, Length: 14453, dtype: bool,\n '孕吐': 0        False\n 1        False\n 2        False\n 3        False\n 4        False\n          ...  \n 14448    False\n 14449    False\n 14450    False\n 14451    False\n 14452    False\n Name: questionText, Length: 14453, dtype: bool,\n '腹部胀痛': 0         True\n 1        False\n 2        False\n 3        False\n 4        False\n          ...  \n 14448    False\n 14449    False\n 14450    False\n 14451    False\n 14452    False\n Name: questionText, Length: 14453, dtype: bool,\n '烧心': 0        False\n 1        False\n 2        False\n 3        False\n 4        False\n          ...  \n 14448    False\n 14449    False\n 14450    False\n 14451    False\n 14452    False\n Name: questionText, Length: 14453, dtype: bool,\n '皮肤与妊娠纹': 0        False\n 1        False\n 2        False\n 3        False\n 4        False\n          ...  \n 14448    False\n 14449    False\n 14450    False\n 14451    False\n 14452    False\n Name: questionText, Length: 14453, dtype: bool,\n '腰疼': 0        False\n 1        False\n 2        False\n 3        False\n 4        False\n          ...  \n 14448    False\n 14449    False\n 14450    False\n 14451    False\n 14452    False\n Name: questionText, Length: 14453, dtype: bool,\n '耻骨疼': 0        False\n 1        False\n 2        False\n 3        False\n 4        False\n          ...  \n 14448    False\n 14449    False\n 14450    False\n 14451    False\n 14452    False\n Name: questionText, Length: 14453, dtype: bool,\n '关节疼': 0        False\n 1        False\n 2        False\n 3        False\n 4        False\n          ...  \n 14448    False\n 14449    False\n 14450    False\n 14451    False\n 14452    False\n Name: questionText, Length: 14453, dtype: bool,\n '便秘': 0        False\n 1        False\n 2        False\n 3        False\n 4        False\n          ...  \n 14448    False\n 14449    False\n 14450    False\n 14451    False\n 14452    False\n Name: questionText, Length: 14453, dtype: bool,\n '水肿': 0        False\n 1        False\n 2        False\n 3        False\n 4        False\n          ...  \n 14448    False\n 14449    False\n 14450    False\n 14451    False\n 14452    False\n Name: questionText, Length: 14453, dtype: bool,\n '抽筋': 0        False\n 1        False\n 2        False\n 3        False\n 4        False\n          ...  \n 14448    False\n 14449    False\n 14450    False\n 14451    False\n 14452    False\n Name: questionText, Length: 14453, dtype: bool,\n '先兆流产': 0         True\n 1        False\n 2        False\n 3        False\n 4        False\n          ...  \n 14448    False\n 14449    False\n 14450    False\n 14451    False\n 14452    False\n Name: questionText, Length: 14453, dtype: bool,\n '大小便': 0        False\n 1        False\n 2        False\n 3        False\n 4        False\n          ...  \n 14448    False\n 14449    False\n 14450    False\n 14451    False\n 14452    False\n Name: questionText, Length: 14453, dtype: bool,\n '瘢痕子宫': 0        False\n 1        False\n 2        False\n 3        False\n 4        False\n          ...  \n 14448    False\n 14449    False\n 14450    False\n 14451    False\n 14452    False\n Name: questionText, Length: 14453, dtype: bool,\n '宫颈疾病': 0        False\n 1        False\n 2        False\n 3        False\n 4        False\n          ...  \n 14448    False\n 14449    False\n 14450    False\n 14451    False\n 14452    False\n Name: questionText, Length: 14453, dtype: bool,\n '叶酸': 0        False\n 1        False\n 2        False\n 3        False\n 4        False\n          ...  \n 14448    False\n 14449    False\n 14450    False\n 14451    False\n 14452    False\n Name: questionText, Length: 14453, dtype: bool,\n '营养': 0        False\n 1         True\n 2        False\n 3        False\n 4        False\n          ...  \n 14448    False\n 14449    False\n 14450    False\n 14451    False\n 14452    False\n Name: questionText, Length: 14453, dtype: bool,\n '补钙': 0        False\n 1        False\n 2        False\n 3        False\n 4        False\n          ...  \n 14448    False\n 14449    False\n 14450    False\n 14451    False\n 14452    False\n Name: questionText, Length: 14453, dtype: bool,\n '补铁': 0        False\n 1        False\n 2        False\n 3        False\n 4        False\n          ...  \n 14448    False\n 14449    False\n 14450    False\n 14451    False\n 14452    False\n Name: questionText, Length: 14453, dtype: bool,\n '维生素': 0        False\n 1        False\n 2        False\n 3        False\n 4        False\n          ...  \n 14448    False\n 14449    False\n 14450    False\n 14451    False\n 14452    False\n Name: questionText, Length: 14453, dtype: bool,\n '饮食药品禁忌': 0        False\n 1        False\n 2        False\n 3        False\n 4        False\n          ...  \n 14448    False\n 14449    False\n 14450    False\n 14451    False\n 14452    False\n Name: questionText, Length: 14453, dtype: bool,\n 'DHA': 0        False\n 1        False\n 2        False\n 3        False\n 4        False\n          ...  \n 14448    False\n 14449    False\n 14450    False\n 14451    False\n 14452    False\n Name: questionText, Length: 14453, dtype: bool,\n '子宫肌瘤': 0        False\n 1        False\n 2        False\n 3        False\n 4        False\n          ...  \n 14448    False\n 14449    False\n 14450    False\n 14451    False\n 14452    False\n Name: questionText, Length: 14453, dtype: bool,\n '宫腔积液': 0        False\n 1        False\n 2        False\n 3        False\n 4        False\n          ...  \n 14448    False\n 14449    False\n 14450    False\n 14451    False\n 14452    False\n Name: questionText, Length: 14453, dtype: bool,\n '优生检查(torch)': 0        False\n 1        False\n 2        False\n 3        False\n 4        False\n          ...  \n 14448    False\n 14449    False\n 14450    False\n 14451    False\n 14452    False\n Name: questionText, Length: 14453, dtype: bool,\n '胎位': 0        False\n 1        False\n 2        False\n 3        False\n 4        False\n          ...  \n 14448    False\n 14449    False\n 14450    False\n 14451    False\n 14452    False\n Name: questionText, Length: 14453, dtype: bool,\n '单脐动脉': 0        False\n 1        False\n 2        False\n 3        False\n 4        False\n          ...  \n 14448    False\n 14449    False\n 14450    False\n 14451    False\n 14452    False\n Name: questionText, Length: 14453, dtype: bool,\n '肾盂分离': 0        False\n 1        False\n 2        False\n 3        False\n 4        False\n          ...  \n 14448    False\n 14449    False\n 14450    False\n 14451    False\n 14452    False\n Name: questionText, Length: 14453, dtype: bool,\n '脉络丛囊肿': 0        False\n 1        False\n 2        False\n 3        False\n 4        False\n          ...  \n 14448    False\n 14449    False\n 14450    False\n 14451    False\n 14452    False\n Name: questionText, Length: 14453, dtype: bool,\n '血检': 0        False\n 1        False\n 2        False\n 3        False\n 4        False\n          ...  \n 14448    False\n 14449    False\n 14450    False\n 14451    False\n 14452    False\n Name: questionText, Length: 14453, dtype: bool,\n '孕囊': 0        False\n 1        False\n 2        False\n 3        False\n 4        False\n          ...  \n 14448    False\n 14449    False\n 14450    False\n 14451    False\n 14452    False\n Name: questionText, Length: 14453, dtype: bool,\n '孕酮': 0        False\n 1        False\n 2        False\n 3        False\n 4        False\n          ...  \n 14448    False\n 14449    False\n 14450    False\n 14451    False\n 14452    False\n Name: questionText, Length: 14453, dtype: bool,\n '胎盘': 0        False\n 1        False\n 2        False\n 3        False\n 4        False\n          ...  \n 14448    False\n 14449    False\n 14450     True\n 14451    False\n 14452    False\n Name: questionText, Length: 14453, dtype: bool,\n '羊水': 0        False\n 1        False\n 2        False\n 3        False\n 4        False\n          ...  \n 14448    False\n 14449    False\n 14450    False\n 14451    False\n 14452    False\n Name: questionText, Length: 14453, dtype: bool,\n '脐带绕颈': 0        False\n 1        False\n 2        False\n 3        False\n 4        False\n          ...  \n 14448    False\n 14449    False\n 14450    False\n 14451    False\n 14452    False\n Name: questionText, Length: 14453, dtype: bool,\n 'ABO溶血': 0        False\n 1        False\n 2         True\n 3        False\n 4        False\n          ...  \n 14448    False\n 14449    False\n 14450    False\n 14451    False\n 14452    False\n Name: questionText, Length: 14453, dtype: bool,\n '地中海贫血': 0        False\n 1        False\n 2        False\n 3        False\n 4        False\n          ...  \n 14448    False\n 14449    False\n 14450    False\n 14451    False\n 14452    False\n Name: questionText, Length: 14453, dtype: bool,\n '染色体': 0        False\n 1        False\n 2        False\n 3        False\n 4        False\n          ...  \n 14448    False\n 14449    False\n 14450    False\n 14451    False\n 14452    False\n Name: questionText, Length: 14453, dtype: bool,\n '胎心监测': 0        False\n 1        False\n 2        False\n 3        False\n 4        False\n          ...  \n 14448    False\n 14449    False\n 14450    False\n 14451    False\n 14452    False\n Name: questionText, Length: 14453, dtype: bool,\n '糖耐': 0        False\n 1        False\n 2        False\n 3        False\n 4        False\n          ...  \n 14448    False\n 14449    False\n 14450    False\n 14451    False\n 14452    False\n Name: questionText, Length: 14453, dtype: bool,\n '甲功三项': 0        False\n 1        False\n 2        False\n 3        False\n 4        False\n          ...  \n 14448    False\n 14449    False\n 14450    False\n 14451    False\n 14452    False\n Name: questionText, Length: 14453, dtype: bool,\n '四维': 0        False\n 1        False\n 2        False\n 3        False\n 4        False\n          ...  \n 14448     True\n 14449    False\n 14450    False\n 14451    False\n 14452    False\n Name: questionText, Length: 14453, dtype: bool,\n '三维': 0        False\n 1        False\n 2        False\n 3        False\n 4        False\n          ...  \n 14448    False\n 14449    False\n 14450    False\n 14451    False\n 14452    False\n Name: questionText, Length: 14453, dtype: bool,\n '二维': 0        False\n 1        False\n 2        False\n 3        False\n 4        False\n          ...  \n 14448    False\n 14449    False\n 14450    False\n 14451    False\n 14452    False\n Name: questionText, Length: 14453, dtype: bool,\n 'B超': 0        False\n 1         True\n 2        False\n 3        False\n 4        False\n          ...  \n 14448    False\n 14449    False\n 14450     True\n 14451    False\n 14452    False\n Name: questionText, Length: 14453, dtype: bool,\n '羊水穿刺': 0        False\n 1        False\n 2        False\n 3        False\n 4        False\n          ...  \n 14448    False\n 14449    False\n 14450    False\n 14451    False\n 14452    False\n Name: questionText, Length: 14453, dtype: bool,\n '大小排畸': 0        False\n 1        False\n 2        False\n 3        False\n 4        False\n          ...  \n 14448    False\n 14449    False\n 14450    False\n 14451    False\n 14452    False\n Name: questionText, Length: 14453, dtype: bool,\n '无创DNA': 0        False\n 1        False\n 2        False\n 3        False\n 4        False\n          ...  \n 14448     True\n 14449    False\n 14450     True\n 14451    False\n 14452     True\n Name: questionText, Length: 14453, dtype: bool,\n '唐氏筛查': 0        False\n 1        False\n 2        False\n 3        False\n 4        False\n          ...  \n 14448    False\n 14449    False\n 14450     True\n 14451    False\n 14452    False\n Name: questionText, Length: 14453, dtype: bool,\n 'NT检查': 0        False\n 1        False\n 2        False\n 3         True\n 4        False\n          ...  \n 14448    False\n 14449    False\n 14450    False\n 14451    False\n 14452    False\n Name: questionText, Length: 14453, dtype: bool,\n '胎儿心脏': 0        False\n 1        False\n 2        False\n 3        False\n 4        False\n          ...  \n 14448    False\n 14449    False\n 14450    False\n 14451    False\n 14452    False\n Name: questionText, Length: 14453, dtype: bool,\n '鼻骨': 0        False\n 1        False\n 2        False\n 3        False\n 4        False\n          ...  \n 14448    False\n 14449    False\n 14450    False\n 14451    False\n 14452    False\n Name: questionText, Length: 14453, dtype: bool,\n '胎动': 0        False\n 1        False\n 2        False\n 3        False\n 4        False\n          ...  \n 14448    False\n 14449    False\n 14450    False\n 14451    False\n 14452    False\n Name: questionText, Length: 14453, dtype: bool,\n '侧脑室': 0        False\n 1        False\n 2        False\n 3        False\n 4        False\n          ...  \n 14448     True\n 14449    False\n 14450    False\n 14451    False\n 14452    False\n Name: questionText, Length: 14453, dtype: bool,\n '双顶径': 0        False\n 1         True\n 2        False\n 3        False\n 4        False\n          ...  \n 14448    False\n 14449    False\n 14450    False\n 14451    False\n 14452    False\n Name: questionText, Length: 14453, dtype: bool,\n '胎儿腹围': 0        False\n 1        False\n 2        False\n 3        False\n 4        False\n          ...  \n 14448    False\n 14449    False\n 14450    False\n 14451    False\n 14452    False\n Name: questionText, Length: 14453, dtype: bool,\n '胎儿头围': 0        False\n 1         True\n 2        False\n 3        False\n 4        False\n          ...  \n 14448    False\n 14449    False\n 14450    False\n 14451    False\n 14452    False\n Name: questionText, Length: 14453, dtype: bool,\n '栓塞': 0        False\n 1        False\n 2        False\n 3        False\n 4        False\n          ...  \n 14448    False\n 14449    False\n 14450    False\n 14451    False\n 14452    False\n Name: questionText, Length: 14453, dtype: bool,\n '分娩': 0        False\n 1        False\n 2        False\n 3        False\n 4        False\n          ...  \n 14448    False\n 14449    False\n 14450    False\n 14451    False\n 14452    False\n Name: questionText, Length: 14453, dtype: bool,\n '待产包': 0        False\n 1        False\n 2        False\n 3        False\n 4        False\n          ...  \n 14448    False\n 14449    False\n 14450    False\n 14451    False\n 14452    False\n Name: questionText, Length: 14453, dtype: bool,\n '早产': 0        False\n 1        False\n 2        False\n 3        False\n 4        False\n          ...  \n 14448    False\n 14449    False\n 14450    False\n 14451    False\n 14452    False\n Name: questionText, Length: 14453, dtype: bool,\n '无痛分娩': 0        False\n 1        False\n 2        False\n 3        False\n 4        False\n          ...  \n 14448    False\n 14449    False\n 14450    False\n 14451    False\n 14452    False\n Name: questionText, Length: 14453, dtype: bool,\n '剖腹': 0         True\n 1        False\n 2        False\n 3        False\n 4        False\n          ...  \n 14448    False\n 14449    False\n 14450    False\n 14451    False\n 14452    False\n Name: questionText, Length: 14453, dtype: bool,\n '顺产': 0        False\n 1        False\n 2        False\n 3        False\n 4        False\n          ...  \n 14448     True\n 14449    False\n 14450    False\n 14451    False\n 14452    False\n Name: questionText, Length: 14453, dtype: bool,\n '宫缩': 0         True\n 1        False\n 2        False\n 3        False\n 4        False\n          ...  \n 14448    False\n 14449    False\n 14450    False\n 14451    False\n 14452    False\n Name: questionText, Length: 14453, dtype: bool,\n '破水': 0        False\n 1        False\n 2        False\n 3        False\n 4        False\n          ...  \n 14448    False\n 14449    False\n 14450    False\n 14451    False\n 14452    False\n Name: questionText, Length: 14453, dtype: bool,\n '临产征兆': 0        False\n 1        False\n 2        False\n 3        False\n 4        False\n          ...  \n 14448    False\n 14449    False\n 14450    False\n 14451    False\n 14452    False\n Name: questionText, Length: 14453, dtype: bool}"
     },
     "execution_count": 9,
     "metadata": {},
     "output_type": "execute_result"
    }
   ],
   "source": [
    "dic1"
   ],
   "metadata": {
    "collapsed": false
   }
  },
  {
   "cell_type": "code",
   "execution_count": 10,
   "outputs": [
    {
     "data": {
      "text/plain": "                                            questionText  \\\n0      提问：医生你好，我做过两次刨腹产，第一次是2008年，第二次是2012年，我现在是第三次有3...   \n1      医生您好，28岁，异卵双胎33周+2；B超显示F1宝宝双顶径80mm，头围296mm；F2宝...   \n2      医生您好，之前怀孕20周+查了abo溶血检查，我是阳O型，我老公是阳b型，检查结果是抗b效价...   \n3                  医生您好，刚刚做完NT，NT值是2.45mm，请问是否需要做进一步检查呢？   \n4              你好\\n我现在30周+， 今天彩超检查，头顶79mm，腿长56mm, 是否腿短呢？   \n...                                                  ...   \n14448       孕24周+4做了四维彩超，左侧侧脑室宽9.3mm,右侧侧脑室宽10.5mm ，其它...   \n14449  13周的时候抽血化验 TORCH感染六项igM。里面的细小病毒B19igM抗体结果呈阳性，这...   \n14450  医生你好，请问b超到显示胎盘血池问题大吗需要注意什么？医生建议无创、早唐中唐都是低风险，本来...   \n14451  孕33+4，孕前有慢性咽炎，怀孕初因为工作关系咽炎犯了就一直没好，嗓子一直不舒服，吃了稍稍一...   \n14452  望抽中！急！医生，您好，我想咨询一下，我孕期查乙肝DNA含量有3×10的8次方那么高，我是大...   \n\n                                       answerVoiceScript  时期  疾病、不适与身体变化  \\\n0      根据你提供的病史来看，有两次剖宫产史那么第三胎肯定是选择剖宫产的。\\n\\n个人建议在没有不适...   1           1   \n1      第一，双顶径偏小头围偏大没有特别影响。到孕晚期时以头围为准，因为双顶径受体位影响较大，例如胎...   1           0   \n2      第一，检查结果是在正常范围内的。\\n\\n第二，我们不会常规检查abo溶血这一个项目。因为ab...   1           0   \n3      nt值没有一个绝对的正常值范围，但是越大，宝宝异常的可能性就越大。\\n\\n你nt值2.45，...   1           0   \n4                  你现在胎龄30周+，检查结果头顶径79mm，股骨56mm，都在正常范围内。   1           0   \n...                                                  ...  ..         ...   \n14448  妈咪，你好啊，你现在这个臭老师属于听不真话，那一班的话，你再接下来的27吧，28周左右复查一...   1           0   \n14449  你好啊，妈咪，如果是那个涛rhi里面的那个b19i圈良性的话，你可以下次去检查的时候再复查一...   1           0   \n14450  老胎盘血池其实一般是不需要处理的，一般地只需要定期观察就可以了，那么它只是一个就说胎盘局部的...   1           0   \n14451  你好啊，妈咪对的很多，慢性咽炎的妈妈呢？哦，一不小心吃错东西或天气，改变干燥的时候特别容易犯...   1           0   \n14452  宝宝生后会接种乙肝疫苗和乙肝免疫球蛋白，阻断乙肝病毒的传播，阻断率可以达到95%以上。\\n\\...   1           0   \n\n          营养  孕检专题  胎儿发育  临产与分娩   阴道私处  妊娠期贫血  ...     栓塞     分娩    待产包  \\\n0      False     0     0      1  False  False  ...  False  False  False   \n1       True     1     1      0  False  False  ...  False  False  False   \n2      False     1     0      0  False  False  ...  False  False  False   \n3      False     1     0      0  False  False  ...  False  False  False   \n4      False     0     0      0  False  False  ...  False  False  False   \n...      ...   ...   ...    ...    ...    ...  ...    ...    ...    ...   \n14448  False     1     1      1  False  False  ...  False  False  False   \n14449  False     0     0      0  False  False  ...  False  False  False   \n14450  False     1     0      0  False  False  ...  False  False  False   \n14451  False     0     0      0  False  False  ...  False  False  False   \n14452  False     1     0      0  False  False  ...  False  False  False   \n\n          早产   无痛分娩     剖腹     顺产     宫缩     破水   临产征兆  \n0      False  False   True  False   True  False  False  \n1      False  False  False  False  False  False  False  \n2      False  False  False  False  False  False  False  \n3      False  False  False  False  False  False  False  \n4      False  False  False  False  False  False  False  \n...      ...    ...    ...    ...    ...    ...    ...  \n14448  False  False  False   True  False  False  False  \n14449  False  False  False  False  False  False  False  \n14450  False  False  False  False  False  False  False  \n14451  False  False  False  False  False  False  False  \n14452  False  False  False  False  False  False  False  \n\n[14453 rows x 82 columns]",
      "text/html": "<div>\n<style scoped>\n    .dataframe tbody tr th:only-of-type {\n        vertical-align: middle;\n    }\n\n    .dataframe tbody tr th {\n        vertical-align: top;\n    }\n\n    .dataframe thead th {\n        text-align: right;\n    }\n</style>\n<table border=\"1\" class=\"dataframe\">\n  <thead>\n    <tr style=\"text-align: right;\">\n      <th></th>\n      <th>questionText</th>\n      <th>answerVoiceScript</th>\n      <th>时期</th>\n      <th>疾病、不适与身体变化</th>\n      <th>营养</th>\n      <th>孕检专题</th>\n      <th>胎儿发育</th>\n      <th>临产与分娩</th>\n      <th>阴道私处</th>\n      <th>妊娠期贫血</th>\n      <th>...</th>\n      <th>栓塞</th>\n      <th>分娩</th>\n      <th>待产包</th>\n      <th>早产</th>\n      <th>无痛分娩</th>\n      <th>剖腹</th>\n      <th>顺产</th>\n      <th>宫缩</th>\n      <th>破水</th>\n      <th>临产征兆</th>\n    </tr>\n  </thead>\n  <tbody>\n    <tr>\n      <th>0</th>\n      <td>提问：医生你好，我做过两次刨腹产，第一次是2008年，第二次是2012年，我现在是第三次有3...</td>\n      <td>根据你提供的病史来看，有两次剖宫产史那么第三胎肯定是选择剖宫产的。\\n\\n个人建议在没有不适...</td>\n      <td>1</td>\n      <td>1</td>\n      <td>False</td>\n      <td>0</td>\n      <td>0</td>\n      <td>1</td>\n      <td>False</td>\n      <td>False</td>\n      <td>...</td>\n      <td>False</td>\n      <td>False</td>\n      <td>False</td>\n      <td>False</td>\n      <td>False</td>\n      <td>True</td>\n      <td>False</td>\n      <td>True</td>\n      <td>False</td>\n      <td>False</td>\n    </tr>\n    <tr>\n      <th>1</th>\n      <td>医生您好，28岁，异卵双胎33周+2；B超显示F1宝宝双顶径80mm，头围296mm；F2宝...</td>\n      <td>第一，双顶径偏小头围偏大没有特别影响。到孕晚期时以头围为准，因为双顶径受体位影响较大，例如胎...</td>\n      <td>1</td>\n      <td>0</td>\n      <td>True</td>\n      <td>1</td>\n      <td>1</td>\n      <td>0</td>\n      <td>False</td>\n      <td>False</td>\n      <td>...</td>\n      <td>False</td>\n      <td>False</td>\n      <td>False</td>\n      <td>False</td>\n      <td>False</td>\n      <td>False</td>\n      <td>False</td>\n      <td>False</td>\n      <td>False</td>\n      <td>False</td>\n    </tr>\n    <tr>\n      <th>2</th>\n      <td>医生您好，之前怀孕20周+查了abo溶血检查，我是阳O型，我老公是阳b型，检查结果是抗b效价...</td>\n      <td>第一，检查结果是在正常范围内的。\\n\\n第二，我们不会常规检查abo溶血这一个项目。因为ab...</td>\n      <td>1</td>\n      <td>0</td>\n      <td>False</td>\n      <td>1</td>\n      <td>0</td>\n      <td>0</td>\n      <td>False</td>\n      <td>False</td>\n      <td>...</td>\n      <td>False</td>\n      <td>False</td>\n      <td>False</td>\n      <td>False</td>\n      <td>False</td>\n      <td>False</td>\n      <td>False</td>\n      <td>False</td>\n      <td>False</td>\n      <td>False</td>\n    </tr>\n    <tr>\n      <th>3</th>\n      <td>医生您好，刚刚做完NT，NT值是2.45mm，请问是否需要做进一步检查呢？</td>\n      <td>nt值没有一个绝对的正常值范围，但是越大，宝宝异常的可能性就越大。\\n\\n你nt值2.45，...</td>\n      <td>1</td>\n      <td>0</td>\n      <td>False</td>\n      <td>1</td>\n      <td>0</td>\n      <td>0</td>\n      <td>False</td>\n      <td>False</td>\n      <td>...</td>\n      <td>False</td>\n      <td>False</td>\n      <td>False</td>\n      <td>False</td>\n      <td>False</td>\n      <td>False</td>\n      <td>False</td>\n      <td>False</td>\n      <td>False</td>\n      <td>False</td>\n    </tr>\n    <tr>\n      <th>4</th>\n      <td>你好\\n我现在30周+， 今天彩超检查，头顶79mm，腿长56mm, 是否腿短呢？</td>\n      <td>你现在胎龄30周+，检查结果头顶径79mm，股骨56mm，都在正常范围内。</td>\n      <td>1</td>\n      <td>0</td>\n      <td>False</td>\n      <td>0</td>\n      <td>0</td>\n      <td>0</td>\n      <td>False</td>\n      <td>False</td>\n      <td>...</td>\n      <td>False</td>\n      <td>False</td>\n      <td>False</td>\n      <td>False</td>\n      <td>False</td>\n      <td>False</td>\n      <td>False</td>\n      <td>False</td>\n      <td>False</td>\n      <td>False</td>\n    </tr>\n    <tr>\n      <th>...</th>\n      <td>...</td>\n      <td>...</td>\n      <td>...</td>\n      <td>...</td>\n      <td>...</td>\n      <td>...</td>\n      <td>...</td>\n      <td>...</td>\n      <td>...</td>\n      <td>...</td>\n      <td>...</td>\n      <td>...</td>\n      <td>...</td>\n      <td>...</td>\n      <td>...</td>\n      <td>...</td>\n      <td>...</td>\n      <td>...</td>\n      <td>...</td>\n      <td>...</td>\n      <td>...</td>\n    </tr>\n    <tr>\n      <th>14448</th>\n      <td>孕24周+4做了四维彩超，左侧侧脑室宽9.3mm,右侧侧脑室宽10.5mm ，其它...</td>\n      <td>妈咪，你好啊，你现在这个臭老师属于听不真话，那一班的话，你再接下来的27吧，28周左右复查一...</td>\n      <td>1</td>\n      <td>0</td>\n      <td>False</td>\n      <td>1</td>\n      <td>1</td>\n      <td>1</td>\n      <td>False</td>\n      <td>False</td>\n      <td>...</td>\n      <td>False</td>\n      <td>False</td>\n      <td>False</td>\n      <td>False</td>\n      <td>False</td>\n      <td>False</td>\n      <td>True</td>\n      <td>False</td>\n      <td>False</td>\n      <td>False</td>\n    </tr>\n    <tr>\n      <th>14449</th>\n      <td>13周的时候抽血化验 TORCH感染六项igM。里面的细小病毒B19igM抗体结果呈阳性，这...</td>\n      <td>你好啊，妈咪，如果是那个涛rhi里面的那个b19i圈良性的话，你可以下次去检查的时候再复查一...</td>\n      <td>1</td>\n      <td>0</td>\n      <td>False</td>\n      <td>0</td>\n      <td>0</td>\n      <td>0</td>\n      <td>False</td>\n      <td>False</td>\n      <td>...</td>\n      <td>False</td>\n      <td>False</td>\n      <td>False</td>\n      <td>False</td>\n      <td>False</td>\n      <td>False</td>\n      <td>False</td>\n      <td>False</td>\n      <td>False</td>\n      <td>False</td>\n    </tr>\n    <tr>\n      <th>14450</th>\n      <td>医生你好，请问b超到显示胎盘血池问题大吗需要注意什么？医生建议无创、早唐中唐都是低风险，本来...</td>\n      <td>老胎盘血池其实一般是不需要处理的，一般地只需要定期观察就可以了，那么它只是一个就说胎盘局部的...</td>\n      <td>1</td>\n      <td>0</td>\n      <td>False</td>\n      <td>1</td>\n      <td>0</td>\n      <td>0</td>\n      <td>False</td>\n      <td>False</td>\n      <td>...</td>\n      <td>False</td>\n      <td>False</td>\n      <td>False</td>\n      <td>False</td>\n      <td>False</td>\n      <td>False</td>\n      <td>False</td>\n      <td>False</td>\n      <td>False</td>\n      <td>False</td>\n    </tr>\n    <tr>\n      <th>14451</th>\n      <td>孕33+4，孕前有慢性咽炎，怀孕初因为工作关系咽炎犯了就一直没好，嗓子一直不舒服，吃了稍稍一...</td>\n      <td>你好啊，妈咪对的很多，慢性咽炎的妈妈呢？哦，一不小心吃错东西或天气，改变干燥的时候特别容易犯...</td>\n      <td>1</td>\n      <td>0</td>\n      <td>False</td>\n      <td>0</td>\n      <td>0</td>\n      <td>0</td>\n      <td>False</td>\n      <td>False</td>\n      <td>...</td>\n      <td>False</td>\n      <td>False</td>\n      <td>False</td>\n      <td>False</td>\n      <td>False</td>\n      <td>False</td>\n      <td>False</td>\n      <td>False</td>\n      <td>False</td>\n      <td>False</td>\n    </tr>\n    <tr>\n      <th>14452</th>\n      <td>望抽中！急！医生，您好，我想咨询一下，我孕期查乙肝DNA含量有3×10的8次方那么高，我是大...</td>\n      <td>宝宝生后会接种乙肝疫苗和乙肝免疫球蛋白，阻断乙肝病毒的传播，阻断率可以达到95%以上。\\n\\...</td>\n      <td>1</td>\n      <td>0</td>\n      <td>False</td>\n      <td>1</td>\n      <td>0</td>\n      <td>0</td>\n      <td>False</td>\n      <td>False</td>\n      <td>...</td>\n      <td>False</td>\n      <td>False</td>\n      <td>False</td>\n      <td>False</td>\n      <td>False</td>\n      <td>False</td>\n      <td>False</td>\n      <td>False</td>\n      <td>False</td>\n      <td>False</td>\n    </tr>\n  </tbody>\n</table>\n<p>14453 rows × 82 columns</p>\n</div>"
     },
     "execution_count": 10,
     "metadata": {},
     "output_type": "execute_result"
    }
   ],
   "source": [
    "df_raw = df_raw.assign(**dic1)\n",
    "df_raw"
   ],
   "metadata": {
    "collapsed": false
   }
  },
  {
   "cell_type": "code",
   "execution_count": 25,
   "outputs": [
    {
     "data": {
      "text/plain": "                                            questionText  \\\n0      提问：医生你好，我做过两次刨腹产，第一次是2008年，第二次是2012年，我现在是第三次有3...   \n1      医生您好，28岁，异卵双胎33周+2；B超显示F1宝宝双顶径80mm，头围296mm；F2宝...   \n2      医生您好，之前怀孕20周+查了abo溶血检查，我是阳O型，我老公是阳b型，检查结果是抗b效价...   \n3                  医生您好，刚刚做完NT，NT值是2.45mm，请问是否需要做进一步检查呢？   \n4              你好\\n我现在30周+， 今天彩超检查，头顶79mm，腿长56mm, 是否腿短呢？   \n...                                                  ...   \n14448       孕24周+4做了四维彩超，左侧侧脑室宽9.3mm,右侧侧脑室宽10.5mm ，其它...   \n14449  13周的时候抽血化验 TORCH感染六项igM。里面的细小病毒B19igM抗体结果呈阳性，这...   \n14450  医生你好，请问b超到显示胎盘血池问题大吗需要注意什么？医生建议无创、早唐中唐都是低风险，本来...   \n14451  孕33+4，孕前有慢性咽炎，怀孕初因为工作关系咽炎犯了就一直没好，嗓子一直不舒服，吃了稍稍一...   \n14452  望抽中！急！医生，您好，我想咨询一下，我孕期查乙肝DNA含量有3×10的8次方那么高，我是大...   \n\n                                       answerVoiceScript  时期  疾病、不适与身体变化  营养  \\\n0      根据你提供的病史来看，有两次剖宫产史那么第三胎肯定是选择剖宫产的。\\n\\n个人建议在没有不适...   1           1   0   \n1      第一，双顶径偏小头围偏大没有特别影响。到孕晚期时以头围为准，因为双顶径受体位影响较大，例如胎...   1           0   1   \n2      第一，检查结果是在正常范围内的。\\n\\n第二，我们不会常规检查abo溶血这一个项目。因为ab...   1           0   0   \n3      nt值没有一个绝对的正常值范围，但是越大，宝宝异常的可能性就越大。\\n\\n你nt值2.45，...   1           0   0   \n4                  你现在胎龄30周+，检查结果头顶径79mm，股骨56mm，都在正常范围内。   1           0   0   \n...                                                  ...  ..         ...  ..   \n14448  妈咪，你好啊，你现在这个臭老师属于听不真话，那一班的话，你再接下来的27吧，28周左右复查一...   1           0   0   \n14449  你好啊，妈咪，如果是那个涛rhi里面的那个b19i圈良性的话，你可以下次去检查的时候再复查一...   1           0   0   \n14450  老胎盘血池其实一般是不需要处理的，一般地只需要定期观察就可以了，那么它只是一个就说胎盘局部的...   1           0   0   \n14451  你好啊，妈咪对的很多，慢性咽炎的妈妈呢？哦，一不小心吃错东西或天气，改变干燥的时候特别容易犯...   1           0   0   \n14452  宝宝生后会接种乙肝疫苗和乙肝免疫球蛋白，阻断乙肝病毒的传播，阻断率可以达到95%以上。\\n\\...   1           0   0   \n\n       孕检专题  胎儿发育  临产与分娩  营养  阴道私处  ...  分娩  待产包  早产  无痛分娩  剖腹  顺产  宫缩  破水  \\\n0         0     0      1   0     0  ...   0    0   0     0   1   0   1   0   \n1         1     1      0   1     0  ...   0    0   0     0   0   0   0   0   \n2         1     0      0   0     0  ...   0    0   0     0   0   0   0   0   \n3         1     0      0   0     0  ...   0    0   0     0   0   0   0   0   \n4         0     0      0   0     0  ...   0    0   0     0   0   0   0   0   \n...     ...   ...    ...  ..   ...  ...  ..  ...  ..   ...  ..  ..  ..  ..   \n14448     1     1      1   0     0  ...   0    0   0     0   0   1   0   0   \n14449     0     0      0   0     0  ...   0    0   0     0   0   0   0   0   \n14450     1     0      0   0     0  ...   0    0   0     0   0   0   0   0   \n14451     0     0      0   0     0  ...   0    0   0     0   0   0   0   0   \n14452     1     0      0   0     0  ...   0    0   0     0   0   0   0   0   \n\n       临产征兆  标签数  \n0         0    4  \n1         0    4  \n2         0    1  \n3         0    1  \n4         0    0  \n...     ...  ...  \n14448     0    4  \n14449     0    0  \n14450     0    4  \n14451     0    0  \n14452     0    1  \n\n[14453 rows x 84 columns]",
      "text/html": "<div>\n<style scoped>\n    .dataframe tbody tr th:only-of-type {\n        vertical-align: middle;\n    }\n\n    .dataframe tbody tr th {\n        vertical-align: top;\n    }\n\n    .dataframe thead th {\n        text-align: right;\n    }\n</style>\n<table border=\"1\" class=\"dataframe\">\n  <thead>\n    <tr style=\"text-align: right;\">\n      <th></th>\n      <th>questionText</th>\n      <th>answerVoiceScript</th>\n      <th>时期</th>\n      <th>疾病、不适与身体变化</th>\n      <th>营养</th>\n      <th>孕检专题</th>\n      <th>胎儿发育</th>\n      <th>临产与分娩</th>\n      <th>营养</th>\n      <th>阴道私处</th>\n      <th>...</th>\n      <th>分娩</th>\n      <th>待产包</th>\n      <th>早产</th>\n      <th>无痛分娩</th>\n      <th>剖腹</th>\n      <th>顺产</th>\n      <th>宫缩</th>\n      <th>破水</th>\n      <th>临产征兆</th>\n      <th>标签数</th>\n    </tr>\n  </thead>\n  <tbody>\n    <tr>\n      <th>0</th>\n      <td>提问：医生你好，我做过两次刨腹产，第一次是2008年，第二次是2012年，我现在是第三次有3...</td>\n      <td>根据你提供的病史来看，有两次剖宫产史那么第三胎肯定是选择剖宫产的。\\n\\n个人建议在没有不适...</td>\n      <td>1</td>\n      <td>1</td>\n      <td>0</td>\n      <td>0</td>\n      <td>0</td>\n      <td>1</td>\n      <td>0</td>\n      <td>0</td>\n      <td>...</td>\n      <td>0</td>\n      <td>0</td>\n      <td>0</td>\n      <td>0</td>\n      <td>1</td>\n      <td>0</td>\n      <td>1</td>\n      <td>0</td>\n      <td>0</td>\n      <td>4</td>\n    </tr>\n    <tr>\n      <th>1</th>\n      <td>医生您好，28岁，异卵双胎33周+2；B超显示F1宝宝双顶径80mm，头围296mm；F2宝...</td>\n      <td>第一，双顶径偏小头围偏大没有特别影响。到孕晚期时以头围为准，因为双顶径受体位影响较大，例如胎...</td>\n      <td>1</td>\n      <td>0</td>\n      <td>1</td>\n      <td>1</td>\n      <td>1</td>\n      <td>0</td>\n      <td>1</td>\n      <td>0</td>\n      <td>...</td>\n      <td>0</td>\n      <td>0</td>\n      <td>0</td>\n      <td>0</td>\n      <td>0</td>\n      <td>0</td>\n      <td>0</td>\n      <td>0</td>\n      <td>0</td>\n      <td>4</td>\n    </tr>\n    <tr>\n      <th>2</th>\n      <td>医生您好，之前怀孕20周+查了abo溶血检查，我是阳O型，我老公是阳b型，检查结果是抗b效价...</td>\n      <td>第一，检查结果是在正常范围内的。\\n\\n第二，我们不会常规检查abo溶血这一个项目。因为ab...</td>\n      <td>1</td>\n      <td>0</td>\n      <td>0</td>\n      <td>1</td>\n      <td>0</td>\n      <td>0</td>\n      <td>0</td>\n      <td>0</td>\n      <td>...</td>\n      <td>0</td>\n      <td>0</td>\n      <td>0</td>\n      <td>0</td>\n      <td>0</td>\n      <td>0</td>\n      <td>0</td>\n      <td>0</td>\n      <td>0</td>\n      <td>1</td>\n    </tr>\n    <tr>\n      <th>3</th>\n      <td>医生您好，刚刚做完NT，NT值是2.45mm，请问是否需要做进一步检查呢？</td>\n      <td>nt值没有一个绝对的正常值范围，但是越大，宝宝异常的可能性就越大。\\n\\n你nt值2.45，...</td>\n      <td>1</td>\n      <td>0</td>\n      <td>0</td>\n      <td>1</td>\n      <td>0</td>\n      <td>0</td>\n      <td>0</td>\n      <td>0</td>\n      <td>...</td>\n      <td>0</td>\n      <td>0</td>\n      <td>0</td>\n      <td>0</td>\n      <td>0</td>\n      <td>0</td>\n      <td>0</td>\n      <td>0</td>\n      <td>0</td>\n      <td>1</td>\n    </tr>\n    <tr>\n      <th>4</th>\n      <td>你好\\n我现在30周+， 今天彩超检查，头顶79mm，腿长56mm, 是否腿短呢？</td>\n      <td>你现在胎龄30周+，检查结果头顶径79mm，股骨56mm，都在正常范围内。</td>\n      <td>1</td>\n      <td>0</td>\n      <td>0</td>\n      <td>0</td>\n      <td>0</td>\n      <td>0</td>\n      <td>0</td>\n      <td>0</td>\n      <td>...</td>\n      <td>0</td>\n      <td>0</td>\n      <td>0</td>\n      <td>0</td>\n      <td>0</td>\n      <td>0</td>\n      <td>0</td>\n      <td>0</td>\n      <td>0</td>\n      <td>0</td>\n    </tr>\n    <tr>\n      <th>...</th>\n      <td>...</td>\n      <td>...</td>\n      <td>...</td>\n      <td>...</td>\n      <td>...</td>\n      <td>...</td>\n      <td>...</td>\n      <td>...</td>\n      <td>...</td>\n      <td>...</td>\n      <td>...</td>\n      <td>...</td>\n      <td>...</td>\n      <td>...</td>\n      <td>...</td>\n      <td>...</td>\n      <td>...</td>\n      <td>...</td>\n      <td>...</td>\n      <td>...</td>\n      <td>...</td>\n    </tr>\n    <tr>\n      <th>14448</th>\n      <td>孕24周+4做了四维彩超，左侧侧脑室宽9.3mm,右侧侧脑室宽10.5mm ，其它...</td>\n      <td>妈咪，你好啊，你现在这个臭老师属于听不真话，那一班的话，你再接下来的27吧，28周左右复查一...</td>\n      <td>1</td>\n      <td>0</td>\n      <td>0</td>\n      <td>1</td>\n      <td>1</td>\n      <td>1</td>\n      <td>0</td>\n      <td>0</td>\n      <td>...</td>\n      <td>0</td>\n      <td>0</td>\n      <td>0</td>\n      <td>0</td>\n      <td>0</td>\n      <td>1</td>\n      <td>0</td>\n      <td>0</td>\n      <td>0</td>\n      <td>4</td>\n    </tr>\n    <tr>\n      <th>14449</th>\n      <td>13周的时候抽血化验 TORCH感染六项igM。里面的细小病毒B19igM抗体结果呈阳性，这...</td>\n      <td>你好啊，妈咪，如果是那个涛rhi里面的那个b19i圈良性的话，你可以下次去检查的时候再复查一...</td>\n      <td>1</td>\n      <td>0</td>\n      <td>0</td>\n      <td>0</td>\n      <td>0</td>\n      <td>0</td>\n      <td>0</td>\n      <td>0</td>\n      <td>...</td>\n      <td>0</td>\n      <td>0</td>\n      <td>0</td>\n      <td>0</td>\n      <td>0</td>\n      <td>0</td>\n      <td>0</td>\n      <td>0</td>\n      <td>0</td>\n      <td>0</td>\n    </tr>\n    <tr>\n      <th>14450</th>\n      <td>医生你好，请问b超到显示胎盘血池问题大吗需要注意什么？医生建议无创、早唐中唐都是低风险，本来...</td>\n      <td>老胎盘血池其实一般是不需要处理的，一般地只需要定期观察就可以了，那么它只是一个就说胎盘局部的...</td>\n      <td>1</td>\n      <td>0</td>\n      <td>0</td>\n      <td>1</td>\n      <td>0</td>\n      <td>0</td>\n      <td>0</td>\n      <td>0</td>\n      <td>...</td>\n      <td>0</td>\n      <td>0</td>\n      <td>0</td>\n      <td>0</td>\n      <td>0</td>\n      <td>0</td>\n      <td>0</td>\n      <td>0</td>\n      <td>0</td>\n      <td>4</td>\n    </tr>\n    <tr>\n      <th>14451</th>\n      <td>孕33+4，孕前有慢性咽炎，怀孕初因为工作关系咽炎犯了就一直没好，嗓子一直不舒服，吃了稍稍一...</td>\n      <td>你好啊，妈咪对的很多，慢性咽炎的妈妈呢？哦，一不小心吃错东西或天气，改变干燥的时候特别容易犯...</td>\n      <td>1</td>\n      <td>0</td>\n      <td>0</td>\n      <td>0</td>\n      <td>0</td>\n      <td>0</td>\n      <td>0</td>\n      <td>0</td>\n      <td>...</td>\n      <td>0</td>\n      <td>0</td>\n      <td>0</td>\n      <td>0</td>\n      <td>0</td>\n      <td>0</td>\n      <td>0</td>\n      <td>0</td>\n      <td>0</td>\n      <td>0</td>\n    </tr>\n    <tr>\n      <th>14452</th>\n      <td>望抽中！急！医生，您好，我想咨询一下，我孕期查乙肝DNA含量有3×10的8次方那么高，我是大...</td>\n      <td>宝宝生后会接种乙肝疫苗和乙肝免疫球蛋白，阻断乙肝病毒的传播，阻断率可以达到95%以上。\\n\\...</td>\n      <td>1</td>\n      <td>0</td>\n      <td>0</td>\n      <td>1</td>\n      <td>0</td>\n      <td>0</td>\n      <td>0</td>\n      <td>0</td>\n      <td>...</td>\n      <td>0</td>\n      <td>0</td>\n      <td>0</td>\n      <td>0</td>\n      <td>0</td>\n      <td>0</td>\n      <td>0</td>\n      <td>0</td>\n      <td>0</td>\n      <td>1</td>\n    </tr>\n  </tbody>\n</table>\n<p>14453 rows × 84 columns</p>\n</div>"
     },
     "execution_count": 25,
     "metadata": {},
     "output_type": "execute_result"
    }
   ],
   "source": [
    "df_labels = df_raw[[col for col in df_raw.columns if df_raw[col].dtype == bool]].astype(int)\n",
    "df_labels['标签数'] = df_labels.sum(axis=1)\n",
    "df = pd.concat([df_raw[['questionText', 'answerVoiceScript', '时期', '疾病、不适与身体变化', '营养', '孕检专题', '胎儿发育', '临产与分娩']], df_labels], axis=1)\n",
    "df['营养'] = df['营养'].astype(int)"
   ],
   "metadata": {
    "collapsed": false
   }
  },
  {
   "cell_type": "code",
   "execution_count": 27,
   "outputs": [
    {
     "data": {
      "text/plain": "                                            questionText  \\\n4              你好\\n我现在30周+， 今天彩超检查，头顶79mm，腿长56mm, 是否腿短呢？   \n5      1.请问孕妇可以用袋鼠妈妈化妆品吗？2.请问孕妇可以戴隐形眼镜吗？3.请问甲醛检测值0.08...   \n15        我o型血，老公a型血，23周查了溶血，有一项抗a效价指标高了一倍，请问有什么影响，需要治疗吗   \n26     你好，就是避孕药吃了还不过一周，之后发现怀孕了，会对胎儿有什么影响？3维彩超或者4维彩超能检...   \n29                                              划线处问题严重吗   \n...                                                  ...   \n14423                                 你好，请问我的这份报告显示是否正常？   \n14426                                    38周，骨盆宽度一定要检查吗？   \n14427                        11周发现有无乳链球菌，该怎么办？早期可以治疗吗？\\n   \n14449  13周的时候抽血化验 TORCH感染六项igM。里面的细小病毒B19igM抗体结果呈阳性，这...   \n14451  孕33+4，孕前有慢性咽炎，怀孕初因为工作关系咽炎犯了就一直没好，嗓子一直不舒服，吃了稍稍一...   \n\n                                       answerVoiceScript  时期  疾病、不适与身体变化  营养  \\\n4                  你现在胎龄30周+，检查结果头顶径79mm，股骨56mm，都在正常范围内。   1           0   0   \n5      第一，孕妇能不能用化妆品并没有绝对的答案。如果工作需要化妆的话建议选择自己认为安全的或者知名...   1           0   0   \n15     现在新的处理方法是孕周不做这些检查，不做抗a抗b滴度的检查，因为小幅度升高也没有太大意义，不...   1           0   0   \n26     妈妈是避孕药吃了，还不过一周之后发现，怀孕了会对胎儿有什么影响？哦，三维彩超或者四维彩超都能...   1           0   0   \n29     嗯，这妈妈是做了一个b超，就发现他左心刺点状强回声嗯，进营产前咨询及复查那么呛，这种情况的话...   1           0   0   \n...                                                  ...  ..         ...  ..   \n14423  这份报告只提示了抗体的情况，定量非常低，所以这个抗体是刚刚产生的，也有可能是之前的抗体已经消...   1           0   0   \n14426  现在骨盆外测量是不是必做的，基本上都是估计胎儿体重和孕妇的身高来初步估计，。\\n\\n预计分娩...   1           0   0   \n14427  如果还没有出生，或者是没有明显的阴道出血，没有感染增加的倾向话，链球菌不是必须要立刻治疗的，...   1           0   0   \n14449  你好啊，妈咪，如果是那个涛rhi里面的那个b19i圈良性的话，你可以下次去检查的时候再复查一...   1           0   0   \n14451  你好啊，妈咪对的很多，慢性咽炎的妈妈呢？哦，一不小心吃错东西或天气，改变干燥的时候特别容易犯...   1           0   0   \n\n       孕检专题  胎儿发育  临产与分娩  营养  阴道私处  ...  分娩  待产包  早产  无痛分娩  剖腹  顺产  宫缩  破水  \\\n4         0     0      0   0     0  ...   0    0   0     0   0   0   0   0   \n5         0     0      0   0     0  ...   0    0   0     0   0   0   0   0   \n15        0     0      0   0     0  ...   0    0   0     0   0   0   0   0   \n26        0     0      0   0     0  ...   0    0   0     0   0   0   0   0   \n29        0     0      0   0     0  ...   0    0   0     0   0   0   0   0   \n...     ...   ...    ...  ..   ...  ...  ..  ...  ..   ...  ..  ..  ..  ..   \n14423     0     0      0   0     0  ...   0    0   0     0   0   0   0   0   \n14426     0     0      0   0     0  ...   0    0   0     0   0   0   0   0   \n14427     0     0      0   0     0  ...   0    0   0     0   0   0   0   0   \n14449     0     0      0   0     0  ...   0    0   0     0   0   0   0   0   \n14451     0     0      0   0     0  ...   0    0   0     0   0   0   0   0   \n\n       临产征兆  标签数  \n4         0    0  \n5         0    0  \n15        0    0  \n26        0    0  \n29        0    0  \n...     ...  ...  \n14423     0    0  \n14426     0    0  \n14427     0    0  \n14449     0    0  \n14451     0    0  \n\n[2040 rows x 84 columns]",
      "text/html": "<div>\n<style scoped>\n    .dataframe tbody tr th:only-of-type {\n        vertical-align: middle;\n    }\n\n    .dataframe tbody tr th {\n        vertical-align: top;\n    }\n\n    .dataframe thead th {\n        text-align: right;\n    }\n</style>\n<table border=\"1\" class=\"dataframe\">\n  <thead>\n    <tr style=\"text-align: right;\">\n      <th></th>\n      <th>questionText</th>\n      <th>answerVoiceScript</th>\n      <th>时期</th>\n      <th>疾病、不适与身体变化</th>\n      <th>营养</th>\n      <th>孕检专题</th>\n      <th>胎儿发育</th>\n      <th>临产与分娩</th>\n      <th>营养</th>\n      <th>阴道私处</th>\n      <th>...</th>\n      <th>分娩</th>\n      <th>待产包</th>\n      <th>早产</th>\n      <th>无痛分娩</th>\n      <th>剖腹</th>\n      <th>顺产</th>\n      <th>宫缩</th>\n      <th>破水</th>\n      <th>临产征兆</th>\n      <th>标签数</th>\n    </tr>\n  </thead>\n  <tbody>\n    <tr>\n      <th>4</th>\n      <td>你好\\n我现在30周+， 今天彩超检查，头顶79mm，腿长56mm, 是否腿短呢？</td>\n      <td>你现在胎龄30周+，检查结果头顶径79mm，股骨56mm，都在正常范围内。</td>\n      <td>1</td>\n      <td>0</td>\n      <td>0</td>\n      <td>0</td>\n      <td>0</td>\n      <td>0</td>\n      <td>0</td>\n      <td>0</td>\n      <td>...</td>\n      <td>0</td>\n      <td>0</td>\n      <td>0</td>\n      <td>0</td>\n      <td>0</td>\n      <td>0</td>\n      <td>0</td>\n      <td>0</td>\n      <td>0</td>\n      <td>0</td>\n    </tr>\n    <tr>\n      <th>5</th>\n      <td>1.请问孕妇可以用袋鼠妈妈化妆品吗？2.请问孕妇可以戴隐形眼镜吗？3.请问甲醛检测值0.08...</td>\n      <td>第一，孕妇能不能用化妆品并没有绝对的答案。如果工作需要化妆的话建议选择自己认为安全的或者知名...</td>\n      <td>1</td>\n      <td>0</td>\n      <td>0</td>\n      <td>0</td>\n      <td>0</td>\n      <td>0</td>\n      <td>0</td>\n      <td>0</td>\n      <td>...</td>\n      <td>0</td>\n      <td>0</td>\n      <td>0</td>\n      <td>0</td>\n      <td>0</td>\n      <td>0</td>\n      <td>0</td>\n      <td>0</td>\n      <td>0</td>\n      <td>0</td>\n    </tr>\n    <tr>\n      <th>15</th>\n      <td>我o型血，老公a型血，23周查了溶血，有一项抗a效价指标高了一倍，请问有什么影响，需要治疗吗</td>\n      <td>现在新的处理方法是孕周不做这些检查，不做抗a抗b滴度的检查，因为小幅度升高也没有太大意义，不...</td>\n      <td>1</td>\n      <td>0</td>\n      <td>0</td>\n      <td>0</td>\n      <td>0</td>\n      <td>0</td>\n      <td>0</td>\n      <td>0</td>\n      <td>...</td>\n      <td>0</td>\n      <td>0</td>\n      <td>0</td>\n      <td>0</td>\n      <td>0</td>\n      <td>0</td>\n      <td>0</td>\n      <td>0</td>\n      <td>0</td>\n      <td>0</td>\n    </tr>\n    <tr>\n      <th>26</th>\n      <td>你好，就是避孕药吃了还不过一周，之后发现怀孕了，会对胎儿有什么影响？3维彩超或者4维彩超能检...</td>\n      <td>妈妈是避孕药吃了，还不过一周之后发现，怀孕了会对胎儿有什么影响？哦，三维彩超或者四维彩超都能...</td>\n      <td>1</td>\n      <td>0</td>\n      <td>0</td>\n      <td>0</td>\n      <td>0</td>\n      <td>0</td>\n      <td>0</td>\n      <td>0</td>\n      <td>...</td>\n      <td>0</td>\n      <td>0</td>\n      <td>0</td>\n      <td>0</td>\n      <td>0</td>\n      <td>0</td>\n      <td>0</td>\n      <td>0</td>\n      <td>0</td>\n      <td>0</td>\n    </tr>\n    <tr>\n      <th>29</th>\n      <td>划线处问题严重吗</td>\n      <td>嗯，这妈妈是做了一个b超，就发现他左心刺点状强回声嗯，进营产前咨询及复查那么呛，这种情况的话...</td>\n      <td>1</td>\n      <td>0</td>\n      <td>0</td>\n      <td>0</td>\n      <td>0</td>\n      <td>0</td>\n      <td>0</td>\n      <td>0</td>\n      <td>...</td>\n      <td>0</td>\n      <td>0</td>\n      <td>0</td>\n      <td>0</td>\n      <td>0</td>\n      <td>0</td>\n      <td>0</td>\n      <td>0</td>\n      <td>0</td>\n      <td>0</td>\n    </tr>\n    <tr>\n      <th>...</th>\n      <td>...</td>\n      <td>...</td>\n      <td>...</td>\n      <td>...</td>\n      <td>...</td>\n      <td>...</td>\n      <td>...</td>\n      <td>...</td>\n      <td>...</td>\n      <td>...</td>\n      <td>...</td>\n      <td>...</td>\n      <td>...</td>\n      <td>...</td>\n      <td>...</td>\n      <td>...</td>\n      <td>...</td>\n      <td>...</td>\n      <td>...</td>\n      <td>...</td>\n      <td>...</td>\n    </tr>\n    <tr>\n      <th>14423</th>\n      <td>你好，请问我的这份报告显示是否正常？</td>\n      <td>这份报告只提示了抗体的情况，定量非常低，所以这个抗体是刚刚产生的，也有可能是之前的抗体已经消...</td>\n      <td>1</td>\n      <td>0</td>\n      <td>0</td>\n      <td>0</td>\n      <td>0</td>\n      <td>0</td>\n      <td>0</td>\n      <td>0</td>\n      <td>...</td>\n      <td>0</td>\n      <td>0</td>\n      <td>0</td>\n      <td>0</td>\n      <td>0</td>\n      <td>0</td>\n      <td>0</td>\n      <td>0</td>\n      <td>0</td>\n      <td>0</td>\n    </tr>\n    <tr>\n      <th>14426</th>\n      <td>38周，骨盆宽度一定要检查吗？</td>\n      <td>现在骨盆外测量是不是必做的，基本上都是估计胎儿体重和孕妇的身高来初步估计，。\\n\\n预计分娩...</td>\n      <td>1</td>\n      <td>0</td>\n      <td>0</td>\n      <td>0</td>\n      <td>0</td>\n      <td>0</td>\n      <td>0</td>\n      <td>0</td>\n      <td>...</td>\n      <td>0</td>\n      <td>0</td>\n      <td>0</td>\n      <td>0</td>\n      <td>0</td>\n      <td>0</td>\n      <td>0</td>\n      <td>0</td>\n      <td>0</td>\n      <td>0</td>\n    </tr>\n    <tr>\n      <th>14427</th>\n      <td>11周发现有无乳链球菌，该怎么办？早期可以治疗吗？\\n</td>\n      <td>如果还没有出生，或者是没有明显的阴道出血，没有感染增加的倾向话，链球菌不是必须要立刻治疗的，...</td>\n      <td>1</td>\n      <td>0</td>\n      <td>0</td>\n      <td>0</td>\n      <td>0</td>\n      <td>0</td>\n      <td>0</td>\n      <td>0</td>\n      <td>...</td>\n      <td>0</td>\n      <td>0</td>\n      <td>0</td>\n      <td>0</td>\n      <td>0</td>\n      <td>0</td>\n      <td>0</td>\n      <td>0</td>\n      <td>0</td>\n      <td>0</td>\n    </tr>\n    <tr>\n      <th>14449</th>\n      <td>13周的时候抽血化验 TORCH感染六项igM。里面的细小病毒B19igM抗体结果呈阳性，这...</td>\n      <td>你好啊，妈咪，如果是那个涛rhi里面的那个b19i圈良性的话，你可以下次去检查的时候再复查一...</td>\n      <td>1</td>\n      <td>0</td>\n      <td>0</td>\n      <td>0</td>\n      <td>0</td>\n      <td>0</td>\n      <td>0</td>\n      <td>0</td>\n      <td>...</td>\n      <td>0</td>\n      <td>0</td>\n      <td>0</td>\n      <td>0</td>\n      <td>0</td>\n      <td>0</td>\n      <td>0</td>\n      <td>0</td>\n      <td>0</td>\n      <td>0</td>\n    </tr>\n    <tr>\n      <th>14451</th>\n      <td>孕33+4，孕前有慢性咽炎，怀孕初因为工作关系咽炎犯了就一直没好，嗓子一直不舒服，吃了稍稍一...</td>\n      <td>你好啊，妈咪对的很多，慢性咽炎的妈妈呢？哦，一不小心吃错东西或天气，改变干燥的时候特别容易犯...</td>\n      <td>1</td>\n      <td>0</td>\n      <td>0</td>\n      <td>0</td>\n      <td>0</td>\n      <td>0</td>\n      <td>0</td>\n      <td>0</td>\n      <td>...</td>\n      <td>0</td>\n      <td>0</td>\n      <td>0</td>\n      <td>0</td>\n      <td>0</td>\n      <td>0</td>\n      <td>0</td>\n      <td>0</td>\n      <td>0</td>\n      <td>0</td>\n    </tr>\n  </tbody>\n</table>\n<p>2040 rows × 84 columns</p>\n</div>"
     },
     "execution_count": 27,
     "metadata": {},
     "output_type": "execute_result"
    }
   ],
   "source": [
    "df[df['标签数'] == 0]"
   ],
   "metadata": {
    "collapsed": false
   }
  },
  {
   "cell_type": "code",
   "execution_count": 24,
   "outputs": [],
   "source": [
    "df.to_csv(get_path('data_type1_subtitled.csv'), index=False, encoding='utf-8')"
   ],
   "metadata": {
    "collapsed": false
   }
  },
  {
   "cell_type": "code",
   "execution_count": 15,
   "outputs": [
    {
     "data": {
      "text/plain": "                                            questionText  \\\n7      提问：医生你好，我做过两次刨腹产，第一次是2008年，第二次是2012年，我现在是第三次有3...   \n8      医生您好，28岁，异卵双胎33周+2；B超显示F1宝宝双顶径80mm，头围296mm；F2宝...   \n9      医生您好，之前怀孕20周+查了abo溶血检查，我是阳O型，我老公是阳b型，检查结果是抗b效价...   \n10                 医生您好，刚刚做完NT，NT值是2.45mm，请问是否需要做进一步检查呢？   \n11             你好\\n我现在30周+， 今天彩超检查，头顶79mm，腿长56mm, 是否腿短呢？   \n...                                                  ...   \n25572  您好，医生，我现在一胎30周，检查了2次都是铜超标（3.19日检查铜36.4  &  4.1...   \n25573  怀孕18+2，最近吃了晚饭就肚子疼，小腹感觉有一条筋由轻到重的痛，不动或者躺着会有缓解，如果...   \n25575       孕24周+4做了四维彩超，左侧侧脑室宽9.3mm,右侧侧脑室宽10.5mm ，其它...   \n25577  医生你好，请问b超到显示胎盘血池问题大吗需要注意什么？医生建议无创、早唐中唐都是低风险，本来...   \n25592  望抽中！急！医生，您好，我想咨询一下，我孕期查乙肝DNA含量有3×10的8次方那么高，我是大...   \n\n                                       answerVoiceScript  \n7      根据你提供的病史来看，有两次剖宫产史那么第三胎肯定是选择剖宫产的。\\n\\n个人建议在没有不适...  \n8      第一，双顶径偏小头围偏大没有特别影响。到孕晚期时以头围为准，因为双顶径受体位影响较大，例如胎...  \n9      第一，检查结果是在正常范围内的。\\n\\n第二，我们不会常规检查abo溶血这一个项目。因为ab...  \n10     nt值没有一个绝对的正常值范围，但是越大，宝宝异常的可能性就越大。\\n\\n你nt值2.45，...  \n11                 你现在胎龄30周+，检查结果头顶径79mm，股骨56mm，都在正常范围内。  \n...                                                  ...  \n25572  你好啊，妈咪，你这个头那只是超标了一点点，那么，问题不大的，因为人体在肝脏代谢酮的能力是很强...  \n25573  你好啊，妈咪的，这个抽血的结果基本上没什么问题，那么吃了东西就觉得肚子会痛的话，考虑会不会是...  \n25575  妈咪，你好啊，你现在这个臭老师属于听不真话，那一班的话，你再接下来的27吧，28周左右复查一...  \n25577  老胎盘血池其实一般是不需要处理的，一般地只需要定期观察就可以了，那么它只是一个就说胎盘局部的...  \n25592  宝宝生后会接种乙肝疫苗和乙肝免疫球蛋白，阻断乙肝病毒的传播，阻断率可以达到95%以上。\\n\\...  \n\n[7259 rows x 2 columns]",
      "text/html": "<div>\n<style scoped>\n    .dataframe tbody tr th:only-of-type {\n        vertical-align: middle;\n    }\n\n    .dataframe tbody tr th {\n        vertical-align: top;\n    }\n\n    .dataframe thead th {\n        text-align: right;\n    }\n</style>\n<table border=\"1\" class=\"dataframe\">\n  <thead>\n    <tr style=\"text-align: right;\">\n      <th></th>\n      <th>questionText</th>\n      <th>answerVoiceScript</th>\n    </tr>\n  </thead>\n  <tbody>\n    <tr>\n      <th>7</th>\n      <td>提问：医生你好，我做过两次刨腹产，第一次是2008年，第二次是2012年，我现在是第三次有3...</td>\n      <td>根据你提供的病史来看，有两次剖宫产史那么第三胎肯定是选择剖宫产的。\\n\\n个人建议在没有不适...</td>\n    </tr>\n    <tr>\n      <th>8</th>\n      <td>医生您好，28岁，异卵双胎33周+2；B超显示F1宝宝双顶径80mm，头围296mm；F2宝...</td>\n      <td>第一，双顶径偏小头围偏大没有特别影响。到孕晚期时以头围为准，因为双顶径受体位影响较大，例如胎...</td>\n    </tr>\n    <tr>\n      <th>9</th>\n      <td>医生您好，之前怀孕20周+查了abo溶血检查，我是阳O型，我老公是阳b型，检查结果是抗b效价...</td>\n      <td>第一，检查结果是在正常范围内的。\\n\\n第二，我们不会常规检查abo溶血这一个项目。因为ab...</td>\n    </tr>\n    <tr>\n      <th>10</th>\n      <td>医生您好，刚刚做完NT，NT值是2.45mm，请问是否需要做进一步检查呢？</td>\n      <td>nt值没有一个绝对的正常值范围，但是越大，宝宝异常的可能性就越大。\\n\\n你nt值2.45，...</td>\n    </tr>\n    <tr>\n      <th>11</th>\n      <td>你好\\n我现在30周+， 今天彩超检查，头顶79mm，腿长56mm, 是否腿短呢？</td>\n      <td>你现在胎龄30周+，检查结果头顶径79mm，股骨56mm，都在正常范围内。</td>\n    </tr>\n    <tr>\n      <th>...</th>\n      <td>...</td>\n      <td>...</td>\n    </tr>\n    <tr>\n      <th>25572</th>\n      <td>您好，医生，我现在一胎30周，检查了2次都是铜超标（3.19日检查铜36.4  &amp;  4.1...</td>\n      <td>你好啊，妈咪，你这个头那只是超标了一点点，那么，问题不大的，因为人体在肝脏代谢酮的能力是很强...</td>\n    </tr>\n    <tr>\n      <th>25573</th>\n      <td>怀孕18+2，最近吃了晚饭就肚子疼，小腹感觉有一条筋由轻到重的痛，不动或者躺着会有缓解，如果...</td>\n      <td>你好啊，妈咪的，这个抽血的结果基本上没什么问题，那么吃了东西就觉得肚子会痛的话，考虑会不会是...</td>\n    </tr>\n    <tr>\n      <th>25575</th>\n      <td>孕24周+4做了四维彩超，左侧侧脑室宽9.3mm,右侧侧脑室宽10.5mm ，其它...</td>\n      <td>妈咪，你好啊，你现在这个臭老师属于听不真话，那一班的话，你再接下来的27吧，28周左右复查一...</td>\n    </tr>\n    <tr>\n      <th>25577</th>\n      <td>医生你好，请问b超到显示胎盘血池问题大吗需要注意什么？医生建议无创、早唐中唐都是低风险，本来...</td>\n      <td>老胎盘血池其实一般是不需要处理的，一般地只需要定期观察就可以了，那么它只是一个就说胎盘局部的...</td>\n    </tr>\n    <tr>\n      <th>25592</th>\n      <td>望抽中！急！医生，您好，我想咨询一下，我孕期查乙肝DNA含量有3×10的8次方那么高，我是大...</td>\n      <td>宝宝生后会接种乙肝疫苗和乙肝免疫球蛋白，阻断乙肝病毒的传播，阻断率可以达到95%以上。\\n\\...</td>\n    </tr>\n  </tbody>\n</table>\n<p>7259 rows × 2 columns</p>\n</div>"
     },
     "execution_count": 15,
     "metadata": {},
     "output_type": "execute_result"
    }
   ],
   "source": [
    "df = df_raw[df_raw['sum'] != 1]\n",
    "df = df[['questionText', 'answerVoiceScript']]\n",
    "df"
   ],
   "metadata": {
    "collapsed": false
   }
  },
  {
   "cell_type": "code",
   "execution_count": 16,
   "outputs": [],
   "source": [
    "df1 = df_raw[df_raw['sum'] == 1]"
   ],
   "metadata": {
    "collapsed": false
   }
  },
  {
   "cell_type": "code",
   "execution_count": 17,
   "outputs": [],
   "source": [
    "df.to_csv(get_path(\"test_data4subtitle.csv\"), index=False, encoding='utf_8_sig')\n",
    "df1.to_csv(get_path(\"train_data4subtitle.csv\"), index=False, encoding='utf_8_sig')"
   ],
   "metadata": {
    "collapsed": false
   }
  },
  {
   "cell_type": "code",
   "execution_count": 40,
   "outputs": [],
   "source": [
    "df_raw.to_csv(get_path(\"20230609temporary.csv\"), encoding='utf-8', index=False)"
   ],
   "metadata": {
    "collapsed": false
   }
  },
  {
   "cell_type": "code",
   "execution_count": 41,
   "outputs": [
    {
     "data": {
      "text/plain": "                                            combinedText  type  illness  \\\n0      提问：医生你好，我做过两次刨腹产，第一次是2008年，第二次是2012年，我现在是第三次有3...     1        1   \n1      医生您好，28岁，异卵双胎33周+2；B超显示F1宝宝双顶径80mm，头围296mm；F2宝...     1        0   \n2      医生您好，之前怀孕20周+查了abo溶血检查，我是阳O型，我老公是阳b型，检查结果是抗b效价...     1        1   \n3      医生您好，刚刚做完NT，NT值是2.45mm，请问是否需要做进一步检查呢？nt值没有一个绝对...     1        0   \n4      你好\\n我现在30周+， 今天彩超检查，头顶79mm，腿长56mm, 是否腿短呢？你现在胎龄...     1        0   \n...                                                  ...   ...      ...   \n14448       孕24周+4做了四维彩超，左侧侧脑室宽9.3mm,右侧侧脑室宽10.5mm ，其它...     1        1   \n14449  13周的时候抽血化验 TORCH感染六项igM。里面的细小病毒B19igM抗体结果呈阳性，这...     1        1   \n14450  医生你好，请问b超到显示胎盘血池问题大吗需要注意什么？医生建议无创、早唐中唐都是低风险，本来...     1        0   \n14451  孕33+4，孕前有慢性咽炎，怀孕初因为工作关系咽炎犯了就一直没好，嗓子一直不舒服，吃了稍稍一...     1        1   \n14452  望抽中！急！医生，您好，我想咨询一下，我孕期查乙肝DNA含量有3×10的8次方那么高，我是大...     1        0   \n\n       nutrition  production  daily  fetus  test  sum illness_keywords  \\\n0              0           1      0      0     0    2                痛   \n1              1           0      1      1     1    4            False   \n2              0           0      0      1     1    3               贫血   \n3              0           0      0      0     1    1            False   \n4              0           0      0      0     0    0            False   \n...          ...         ...    ...    ...   ...  ...              ...   \n14448          1           1      0      1     1    5                痛   \n14449          0           0      0      1     0    2               水肿   \n14450          0           0      1      0     1    2            False   \n14451          0           0      0      0     0    1               贫血   \n14452          0           0      0      0     1    1            False   \n\n      nutrition_keywords production_keywords daily_keywords fetus_keywords  \\\n0                  False                 剖腹产          False          False   \n1                     营养               False             体重             胎儿   \n2                  False               False          False             胎儿   \n3                  False               False          False          False   \n4                  False               False          False          False   \n...                  ...                 ...            ...            ...   \n14448                维生素                  顺产          False             胎儿   \n14449              False               False          False             胎儿   \n14450              False               False             运动          False   \n14451              False               False          False          False   \n14452              False               False          False          False   \n\n      test_keywords  \n0             False  \n1                B超  \n2                溶血  \n3                NT  \n4             False  \n...             ...  \n14448            无创  \n14449         False  \n14450            无创  \n14451         False  \n14452           DNA  \n\n[14453 rows x 15 columns]",
      "text/html": "<div>\n<style scoped>\n    .dataframe tbody tr th:only-of-type {\n        vertical-align: middle;\n    }\n\n    .dataframe tbody tr th {\n        vertical-align: top;\n    }\n\n    .dataframe thead th {\n        text-align: right;\n    }\n</style>\n<table border=\"1\" class=\"dataframe\">\n  <thead>\n    <tr style=\"text-align: right;\">\n      <th></th>\n      <th>combinedText</th>\n      <th>type</th>\n      <th>illness</th>\n      <th>nutrition</th>\n      <th>production</th>\n      <th>daily</th>\n      <th>fetus</th>\n      <th>test</th>\n      <th>sum</th>\n      <th>illness_keywords</th>\n      <th>nutrition_keywords</th>\n      <th>production_keywords</th>\n      <th>daily_keywords</th>\n      <th>fetus_keywords</th>\n      <th>test_keywords</th>\n    </tr>\n  </thead>\n  <tbody>\n    <tr>\n      <th>0</th>\n      <td>提问：医生你好，我做过两次刨腹产，第一次是2008年，第二次是2012年，我现在是第三次有3...</td>\n      <td>1</td>\n      <td>1</td>\n      <td>0</td>\n      <td>1</td>\n      <td>0</td>\n      <td>0</td>\n      <td>0</td>\n      <td>2</td>\n      <td>痛</td>\n      <td>False</td>\n      <td>剖腹产</td>\n      <td>False</td>\n      <td>False</td>\n      <td>False</td>\n    </tr>\n    <tr>\n      <th>1</th>\n      <td>医生您好，28岁，异卵双胎33周+2；B超显示F1宝宝双顶径80mm，头围296mm；F2宝...</td>\n      <td>1</td>\n      <td>0</td>\n      <td>1</td>\n      <td>0</td>\n      <td>1</td>\n      <td>1</td>\n      <td>1</td>\n      <td>4</td>\n      <td>False</td>\n      <td>营养</td>\n      <td>False</td>\n      <td>体重</td>\n      <td>胎儿</td>\n      <td>B超</td>\n    </tr>\n    <tr>\n      <th>2</th>\n      <td>医生您好，之前怀孕20周+查了abo溶血检查，我是阳O型，我老公是阳b型，检查结果是抗b效价...</td>\n      <td>1</td>\n      <td>1</td>\n      <td>0</td>\n      <td>0</td>\n      <td>0</td>\n      <td>1</td>\n      <td>1</td>\n      <td>3</td>\n      <td>贫血</td>\n      <td>False</td>\n      <td>False</td>\n      <td>False</td>\n      <td>胎儿</td>\n      <td>溶血</td>\n    </tr>\n    <tr>\n      <th>3</th>\n      <td>医生您好，刚刚做完NT，NT值是2.45mm，请问是否需要做进一步检查呢？nt值没有一个绝对...</td>\n      <td>1</td>\n      <td>0</td>\n      <td>0</td>\n      <td>0</td>\n      <td>0</td>\n      <td>0</td>\n      <td>1</td>\n      <td>1</td>\n      <td>False</td>\n      <td>False</td>\n      <td>False</td>\n      <td>False</td>\n      <td>False</td>\n      <td>NT</td>\n    </tr>\n    <tr>\n      <th>4</th>\n      <td>你好\\n我现在30周+， 今天彩超检查，头顶79mm，腿长56mm, 是否腿短呢？你现在胎龄...</td>\n      <td>1</td>\n      <td>0</td>\n      <td>0</td>\n      <td>0</td>\n      <td>0</td>\n      <td>0</td>\n      <td>0</td>\n      <td>0</td>\n      <td>False</td>\n      <td>False</td>\n      <td>False</td>\n      <td>False</td>\n      <td>False</td>\n      <td>False</td>\n    </tr>\n    <tr>\n      <th>...</th>\n      <td>...</td>\n      <td>...</td>\n      <td>...</td>\n      <td>...</td>\n      <td>...</td>\n      <td>...</td>\n      <td>...</td>\n      <td>...</td>\n      <td>...</td>\n      <td>...</td>\n      <td>...</td>\n      <td>...</td>\n      <td>...</td>\n      <td>...</td>\n      <td>...</td>\n    </tr>\n    <tr>\n      <th>14448</th>\n      <td>孕24周+4做了四维彩超，左侧侧脑室宽9.3mm,右侧侧脑室宽10.5mm ，其它...</td>\n      <td>1</td>\n      <td>1</td>\n      <td>1</td>\n      <td>1</td>\n      <td>0</td>\n      <td>1</td>\n      <td>1</td>\n      <td>5</td>\n      <td>痛</td>\n      <td>维生素</td>\n      <td>顺产</td>\n      <td>False</td>\n      <td>胎儿</td>\n      <td>无创</td>\n    </tr>\n    <tr>\n      <th>14449</th>\n      <td>13周的时候抽血化验 TORCH感染六项igM。里面的细小病毒B19igM抗体结果呈阳性，这...</td>\n      <td>1</td>\n      <td>1</td>\n      <td>0</td>\n      <td>0</td>\n      <td>0</td>\n      <td>1</td>\n      <td>0</td>\n      <td>2</td>\n      <td>水肿</td>\n      <td>False</td>\n      <td>False</td>\n      <td>False</td>\n      <td>胎儿</td>\n      <td>False</td>\n    </tr>\n    <tr>\n      <th>14450</th>\n      <td>医生你好，请问b超到显示胎盘血池问题大吗需要注意什么？医生建议无创、早唐中唐都是低风险，本来...</td>\n      <td>1</td>\n      <td>0</td>\n      <td>0</td>\n      <td>0</td>\n      <td>1</td>\n      <td>0</td>\n      <td>1</td>\n      <td>2</td>\n      <td>False</td>\n      <td>False</td>\n      <td>False</td>\n      <td>运动</td>\n      <td>False</td>\n      <td>无创</td>\n    </tr>\n    <tr>\n      <th>14451</th>\n      <td>孕33+4，孕前有慢性咽炎，怀孕初因为工作关系咽炎犯了就一直没好，嗓子一直不舒服，吃了稍稍一...</td>\n      <td>1</td>\n      <td>1</td>\n      <td>0</td>\n      <td>0</td>\n      <td>0</td>\n      <td>0</td>\n      <td>0</td>\n      <td>1</td>\n      <td>贫血</td>\n      <td>False</td>\n      <td>False</td>\n      <td>False</td>\n      <td>False</td>\n      <td>False</td>\n    </tr>\n    <tr>\n      <th>14452</th>\n      <td>望抽中！急！医生，您好，我想咨询一下，我孕期查乙肝DNA含量有3×10的8次方那么高，我是大...</td>\n      <td>1</td>\n      <td>0</td>\n      <td>0</td>\n      <td>0</td>\n      <td>0</td>\n      <td>0</td>\n      <td>1</td>\n      <td>1</td>\n      <td>False</td>\n      <td>False</td>\n      <td>False</td>\n      <td>False</td>\n      <td>False</td>\n      <td>DNA</td>\n    </tr>\n  </tbody>\n</table>\n<p>14453 rows × 15 columns</p>\n</div>"
     },
     "execution_count": 41,
     "metadata": {},
     "output_type": "execute_result"
    }
   ],
   "source": [
    "df = pd.read_csv(get_path(\"20230609temporary.csv\"), encoding='utf-8')\n",
    "df"
   ],
   "metadata": {
    "collapsed": false
   }
  },
  {
   "cell_type": "code",
   "execution_count": 42,
   "outputs": [
    {
     "data": {
      "text/plain": "      illness_keywords nutrition_keywords production_keywords daily_keywords  \\\n0                    痛              False                 剖腹产          False   \n5                False              False               False            化妆品   \n22               False              False               False          False   \n24               False              False               False          False   \n27               False              False               False             乳头   \n...                ...                ...                 ...            ...   \n14440            False              False               False          False   \n14441               阴道              False               False          False   \n14442                疼                 缺钙               False          False   \n14449               水肿              False               False          False   \n14450            False              False               False             运动   \n\n      fetus_keywords test_keywords  \n0              False         False  \n5              False            检测  \n22               侧脑室            无创  \n24               侧脑室            无创  \n27             False           DNA  \n...              ...           ...  \n14440             胎儿            排畸  \n14441          False            胎膜  \n14442          False         False  \n14449             胎儿         False  \n14450          False            无创  \n\n[5377 rows x 6 columns]",
      "text/html": "<div>\n<style scoped>\n    .dataframe tbody tr th:only-of-type {\n        vertical-align: middle;\n    }\n\n    .dataframe tbody tr th {\n        vertical-align: top;\n    }\n\n    .dataframe thead th {\n        text-align: right;\n    }\n</style>\n<table border=\"1\" class=\"dataframe\">\n  <thead>\n    <tr style=\"text-align: right;\">\n      <th></th>\n      <th>illness_keywords</th>\n      <th>nutrition_keywords</th>\n      <th>production_keywords</th>\n      <th>daily_keywords</th>\n      <th>fetus_keywords</th>\n      <th>test_keywords</th>\n    </tr>\n  </thead>\n  <tbody>\n    <tr>\n      <th>0</th>\n      <td>痛</td>\n      <td>False</td>\n      <td>剖腹产</td>\n      <td>False</td>\n      <td>False</td>\n      <td>False</td>\n    </tr>\n    <tr>\n      <th>5</th>\n      <td>False</td>\n      <td>False</td>\n      <td>False</td>\n      <td>化妆品</td>\n      <td>False</td>\n      <td>检测</td>\n    </tr>\n    <tr>\n      <th>22</th>\n      <td>False</td>\n      <td>False</td>\n      <td>False</td>\n      <td>False</td>\n      <td>侧脑室</td>\n      <td>无创</td>\n    </tr>\n    <tr>\n      <th>24</th>\n      <td>False</td>\n      <td>False</td>\n      <td>False</td>\n      <td>False</td>\n      <td>侧脑室</td>\n      <td>无创</td>\n    </tr>\n    <tr>\n      <th>27</th>\n      <td>False</td>\n      <td>False</td>\n      <td>False</td>\n      <td>乳头</td>\n      <td>False</td>\n      <td>DNA</td>\n    </tr>\n    <tr>\n      <th>...</th>\n      <td>...</td>\n      <td>...</td>\n      <td>...</td>\n      <td>...</td>\n      <td>...</td>\n      <td>...</td>\n    </tr>\n    <tr>\n      <th>14440</th>\n      <td>False</td>\n      <td>False</td>\n      <td>False</td>\n      <td>False</td>\n      <td>胎儿</td>\n      <td>排畸</td>\n    </tr>\n    <tr>\n      <th>14441</th>\n      <td>阴道</td>\n      <td>False</td>\n      <td>False</td>\n      <td>False</td>\n      <td>False</td>\n      <td>胎膜</td>\n    </tr>\n    <tr>\n      <th>14442</th>\n      <td>疼</td>\n      <td>缺钙</td>\n      <td>False</td>\n      <td>False</td>\n      <td>False</td>\n      <td>False</td>\n    </tr>\n    <tr>\n      <th>14449</th>\n      <td>水肿</td>\n      <td>False</td>\n      <td>False</td>\n      <td>False</td>\n      <td>胎儿</td>\n      <td>False</td>\n    </tr>\n    <tr>\n      <th>14450</th>\n      <td>False</td>\n      <td>False</td>\n      <td>False</td>\n      <td>运动</td>\n      <td>False</td>\n      <td>无创</td>\n    </tr>\n  </tbody>\n</table>\n<p>5377 rows × 6 columns</p>\n</div>"
     },
     "execution_count": 42,
     "metadata": {},
     "output_type": "execute_result"
    }
   ],
   "source": [
    "df[['illness_keywords', 'nutrition_keywords', 'production_keywords', 'daily_keywords', 'fetus_keywords', 'test_keywords']][df['sum'] == 2]"
   ],
   "metadata": {
    "collapsed": false
   }
  },
  {
   "cell_type": "code",
   "execution_count": 44,
   "outputs": [
    {
     "data": {
      "text/plain": "'提问：医生你好，我做过两次刨腹产，第一次是2008年，第二次是2012年，我现在是第三次有36+4周，子宫疤痕厚度只有0.16厚，平时有一些不规律的宫缩，请问我这种情况是要继续等侍还是现在就要住院剖腹产好呢？如果继续等待，疤痕会越来越薄，能够承受吗？根据你提供的病史来看，有两次剖宫产史那么第三胎肯定是选择剖宫产的。\\n\\n个人建议在没有不适的情况下可以等37周足月以后再考虑终止妊娠。如果出现有分娩的迹象了就前往医院待产。\\n\\n孕晚期有不规律宫缩是正常的，子宫一般不会突然无明显症状就破裂，不用太紧张。\\n\\n当出现持续性的腹痛、阴道流血、子宫发紧发硬、下坠感非常强烈时及时就诊能减少不良事件发生。'"
     },
     "execution_count": 44,
     "metadata": {},
     "output_type": "execute_result"
    }
   ],
   "source": [
    "df.loc[0]['combinedText']"
   ],
   "metadata": {
    "collapsed": false
   }
  },
  {
   "cell_type": "code",
   "execution_count": 66,
   "outputs": [
    {
     "data": {
      "text/plain": "False"
     },
     "execution_count": 66,
     "metadata": {},
     "output_type": "execute_result"
    }
   ],
   "source": [
    "'皮疹' in illness_key_words"
   ],
   "metadata": {
    "collapsed": false
   }
  },
  {
   "cell_type": "code",
   "execution_count": 1,
   "outputs": [
    {
     "data": {
      "text/plain": "[0, 1, 2, 3, 4, 5, 6, 7, 8, 9, 10]"
     },
     "execution_count": 1,
     "metadata": {},
     "output_type": "execute_result"
    }
   ],
   "source": [
    "a = [i for i in range(5)]\n",
    "b = [i for i in range(5, 11)]\n",
    "a + b"
   ],
   "metadata": {
    "collapsed": false
   }
  },
  {
   "cell_type": "code",
   "execution_count": 32,
   "outputs": [],
   "source": [
    "# 叶酸\n",
    "YeSuan = ['叶酸']\n",
    "\n",
    "# 营养\n",
    "nutrition = ['营养', '荤', '素', '零食', '少食多餐', '食欲']\n",
    "\n",
    "# 补钙\n",
    "Ca = ['钙']\n",
    "\n",
    "# 补铁\n",
    "Fe = ['铁']\n",
    "\n",
    "# 维生素\n",
    "vitamin = ['维生素', '维他命', '多维胶囊', '爱乐维', '黄金素', '复合维生素', '胡萝卜素', '维A', '维D', '维B', '维a', '维d',\n",
    "           '维b']\n",
    "\n",
    "# 饮食药品禁忌\n",
    "food_taboo = ['忌口', '能吃', '可以吃', '要吃', '擦了', '涂抹']\n",
    "class Subtitle:\n",
    "    def __init__(self, *labels):\n",
    "        assert all(isinstance(label, Labels) for label in labels), \"Not all variables are Labels\"\n",
    "        self.keywords = [words for label in labels for words in label]\n",
    "        self.labels = {label.name: label for label in labels}\n",
    "\n",
    "    def __len__(self):\n",
    "        return len(self.labels)\n",
    "\n",
    "    def see_labels(self):\n",
    "        return [i.name for i in self.labels]\n",
    "\n",
    "    def count_keywords(self):\n",
    "        return len(self.keywords)\n",
    "\n",
    "    def __getitem__(self, key):\n",
    "        return self.labels[key]\n",
    "\n",
    "    def __setitem__(self, key, value):\n",
    "        self.labels[key] = value\n",
    "\n",
    "\n",
    "class Labels:\n",
    "    def __init__(self, keywords, name):\n",
    "        self.keywords = keywords\n",
    "        self.name = name\n",
    "\n",
    "    def __len__(self):\n",
    "        return len(self.keywords)\n",
    "\n",
    "    def __getitem__(self, index):\n",
    "        return self.keywords[index]\n",
    "vitamin = Labels(vitamin, \"维生素\")\n",
    "food_taboo = Labels(food_taboo, \"忌口\")\n",
    "a = Subtitle(vitamin, food_taboo)"
   ],
   "metadata": {
    "collapsed": false
   }
  },
  {
   "cell_type": "code",
   "execution_count": 36,
   "outputs": [
    {
     "data": {
      "text/plain": "True"
     },
     "execution_count": 36,
     "metadata": {},
     "output_type": "execute_result"
    }
   ],
   "source": [
    "'维生素' in a.labels"
   ],
   "metadata": {
    "collapsed": false
   }
  },
  {
   "cell_type": "code",
   "execution_count": 39,
   "outputs": [
    {
     "data": {
      "text/plain": "'wer'"
     },
     "execution_count": 39,
     "metadata": {},
     "output_type": "execute_result"
    }
   ],
   "source": [
    "a = 'qwer'\n",
    "a[-3:]"
   ],
   "metadata": {
    "collapsed": false
   }
  },
  {
   "cell_type": "code",
   "execution_count": 40,
   "outputs": [
    {
     "data": {
      "text/plain": "{'encoding': 'UTF-8-SIG', 'confidence': 1.0, 'language': ''}"
     },
     "execution_count": 40,
     "metadata": {},
     "output_type": "execute_result"
    }
   ],
   "source": [
    "import chardet\n",
    "with open(get_path(\"inferenced_data_type.csv\"), mode='rb') as f:\n",
    "    content = f.read()\n",
    "result = chardet.detect(content)\n",
    "result['encoding']"
   ],
   "metadata": {
    "collapsed": false
   }
  },
  {
   "cell_type": "code",
   "execution_count": 41,
   "outputs": [
    {
     "data": {
      "text/plain": "'UTF-8-SIG'"
     },
     "execution_count": 41,
     "metadata": {},
     "output_type": "execute_result"
    }
   ],
   "source": [
    "result['encoding']"
   ],
   "metadata": {
    "collapsed": false
   }
  },
  {
   "cell_type": "code",
   "execution_count": 42,
   "outputs": [
    {
     "data": {
      "text/plain": "                                            questionText  \\\n0      我女宝宝六个月了，过年前被传染支气管肺炎，现在才出院两天，还是有点喘气，每次吃牛奶都会拉大便...   \n1      急 急急，医生，宝宝肚子胀，昨天还吐，现在还在哭，在老家去药店也不方便，有什么药能喂她吃会好...   \n2      宝宝3个月，头上、眉毛、总是会长这些东西，用茶油擦洗可以洗的比较干净，但总是会反复长。请问头...   \n3      1，宝宝50天睡觉时老是摇头，睡不实，晚上容易醒，爱哭闹，请问是缺钙吗？有些什么措施可以改变...   \n4      宝宝纯奶粉喂养，每次吃完奶都会含一口奶在嘴里，嘴巴里面的奶都发酵了，导致嘴巴好臭，请问这么小...   \n...                                                  ...   \n25593  女宝宝四个月八天了，感觉腿有点像外歪的，还是长的太胖了的原因呢，体重8.5公斤。请问这种情况正常？   \n25594                                   医生，请问8个月卤门宽是缺钙么？   \n25595  忘抽中，急！医生您好，宝宝4个多月，出生到现在基本上每天都会吐奶，精神正常，出生6斤4，现在...   \n25596  宝宝从2个多月开始乳糖不耐受，后来经过4个多月才好，好了后一直不敢停乳糖酶，也添加了辅食，母...   \n25597  宝宝六个月，母乳喂养，男宝宝，这几天拉尿尿不湿里面有点红色的，是什么原因呢，还有就是这几天拉...   \n\n                                       answerVoiceScript  \\\n0      第一，要注意肺炎是否已经痊愈，还是还没完全好彻底，宝宝还有气促或喘息，最好带宝宝去医院，让医...   \n1      如果宝宝出现腹胀，且还频繁呕吐，要注意宝宝的排便情况如何？\\n\\n如果宝宝同时伴随着腹泻，要...   \n2      宝宝脸上、额头上、头发上的叫脂溢性皮炎，属于湿疹的一种。\\n\\n通常和个体体质有关，可能宝宝...   \n3      小宝宝睡觉时可能会通过摇晃脑袋这种方式来寻求自我安慰，如果宝宝晚上容易醒，要找原因。\\n\\n...   \n4      宝宝的口腔护理是很重要的，在宝宝乳牙萌出之前，宝宝的口腔护理要家长帮他进行。\\n\\n可以在每...   \n...                                                  ...   \n25593  如果宝宝是母乳喂养，暂时不需要干预，如果奶粉喂养，平常要多注重宝宝的运动量，包括让宝宝多趴、...   \n25594  如果宝宝的囟门比较宽，不一定是缺钙的表现，平常有注重补充生理量的维生素D即可。\\n\\n如果囟...   \n25595  宝宝出生后到现在的体重增长，还算是正常范围内，出生之后，每天都会有呕奶，不影响增长，有可能是...   \n25596  需要注意两点。\\n\\n第一，宝宝有没有可能合并病毒性肠炎的问题。病毒性肠炎有可能会有呕吐、拉...   \n25597  首先，要观察宝宝的尿道口有没有发红或异常的分泌物，需要警惕有没有尿路感染。\\n\\n因为尿路感...   \n\n                                             answerVoice questionTags  \\\n0      https://file.ihealthcoming.com/143e11dd-f572-4...    肠炎,肺炎,拉肚子   \n1      https://file.ihealthcoming.com/fa7db932-b590-4...       拉肚子,呕吐   \n2      https://file.ihealthcoming.com/ffd0c882-f94c-4...  脂溢性皮炎,湿疹,过敏   \n3      https://file.ihealthcoming.com/8ced5949-a9fe-4...       睡眠,易惊醒   \n4      https://file.ihealthcoming.com/efc3f327-608f-4...          鹅口疮   \n...                                                  ...          ...   \n25593  https://file.ihealthcoming.com/817d8420-4a68-4...         生长发育   \n25594  https://file.ihealthcoming.com/a9b1d288-bc44-4...           其他   \n25595  https://file.ihealthcoming.com/1d25ed42-e852-4...   髋关节发育异常,吐奶   \n25596  https://file.ihealthcoming.com/50546ae2-e91a-4...     肠炎,辅食,便便   \n25597  https://file.ihealthcoming.com/f24e2dbd-238d-4...        尿道,尿液   \n\n                                            combinedText  type  \n0      我女宝宝六个月了，过年前被传染支气管肺炎，现在才出院两天，还是有点喘气，每次吃牛奶都会拉大便...     0  \n1      急 急急，医生，宝宝肚子胀，昨天还吐，现在还在哭，在老家去药店也不方便，有什么药能喂她吃会好...     0  \n2      宝宝3个月，头上、眉毛、总是会长这些东西，用茶油擦洗可以洗的比较干净，但总是会反复长。请问头...     0  \n3      1，宝宝50天睡觉时老是摇头，睡不实，晚上容易醒，爱哭闹，请问是缺钙吗？有些什么措施可以改变...     0  \n4      宝宝纯奶粉喂养，每次吃完奶都会含一口奶在嘴里，嘴巴里面的奶都发酵了，导致嘴巴好臭，请问这么小...     0  \n...                                                  ...   ...  \n25593  女宝宝四个月八天了，感觉腿有点像外歪的，还是长的太胖了的原因呢，体重8.5公斤。请问这种情况...     0  \n25594  医生，请问8个月卤门宽是缺钙么？如果宝宝的囟门比较宽，不一定是缺钙的表现，平常有注重补充生理...     0  \n25595  忘抽中，急！医生您好，宝宝4个多月，出生到现在基本上每天都会吐奶，精神正常，出生6斤4，现在...     0  \n25596  宝宝从2个多月开始乳糖不耐受，后来经过4个多月才好，好了后一直不敢停乳糖酶，也添加了辅食，母...     0  \n25597  宝宝六个月，母乳喂养，男宝宝，这几天拉尿尿不湿里面有点红色的，是什么原因呢，还有就是这几天拉...     0  \n\n[25598 rows x 6 columns]",
      "text/html": "<div>\n<style scoped>\n    .dataframe tbody tr th:only-of-type {\n        vertical-align: middle;\n    }\n\n    .dataframe tbody tr th {\n        vertical-align: top;\n    }\n\n    .dataframe thead th {\n        text-align: right;\n    }\n</style>\n<table border=\"1\" class=\"dataframe\">\n  <thead>\n    <tr style=\"text-align: right;\">\n      <th></th>\n      <th>questionText</th>\n      <th>answerVoiceScript</th>\n      <th>answerVoice</th>\n      <th>questionTags</th>\n      <th>combinedText</th>\n      <th>type</th>\n    </tr>\n  </thead>\n  <tbody>\n    <tr>\n      <th>0</th>\n      <td>我女宝宝六个月了，过年前被传染支气管肺炎，现在才出院两天，还是有点喘气，每次吃牛奶都会拉大便...</td>\n      <td>第一，要注意肺炎是否已经痊愈，还是还没完全好彻底，宝宝还有气促或喘息，最好带宝宝去医院，让医...</td>\n      <td>https://file.ihealthcoming.com/143e11dd-f572-4...</td>\n      <td>肠炎,肺炎,拉肚子</td>\n      <td>我女宝宝六个月了，过年前被传染支气管肺炎，现在才出院两天，还是有点喘气，每次吃牛奶都会拉大便...</td>\n      <td>0</td>\n    </tr>\n    <tr>\n      <th>1</th>\n      <td>急 急急，医生，宝宝肚子胀，昨天还吐，现在还在哭，在老家去药店也不方便，有什么药能喂她吃会好...</td>\n      <td>如果宝宝出现腹胀，且还频繁呕吐，要注意宝宝的排便情况如何？\\n\\n如果宝宝同时伴随着腹泻，要...</td>\n      <td>https://file.ihealthcoming.com/fa7db932-b590-4...</td>\n      <td>拉肚子,呕吐</td>\n      <td>急 急急，医生，宝宝肚子胀，昨天还吐，现在还在哭，在老家去药店也不方便，有什么药能喂她吃会好...</td>\n      <td>0</td>\n    </tr>\n    <tr>\n      <th>2</th>\n      <td>宝宝3个月，头上、眉毛、总是会长这些东西，用茶油擦洗可以洗的比较干净，但总是会反复长。请问头...</td>\n      <td>宝宝脸上、额头上、头发上的叫脂溢性皮炎，属于湿疹的一种。\\n\\n通常和个体体质有关，可能宝宝...</td>\n      <td>https://file.ihealthcoming.com/ffd0c882-f94c-4...</td>\n      <td>脂溢性皮炎,湿疹,过敏</td>\n      <td>宝宝3个月，头上、眉毛、总是会长这些东西，用茶油擦洗可以洗的比较干净，但总是会反复长。请问头...</td>\n      <td>0</td>\n    </tr>\n    <tr>\n      <th>3</th>\n      <td>1，宝宝50天睡觉时老是摇头，睡不实，晚上容易醒，爱哭闹，请问是缺钙吗？有些什么措施可以改变...</td>\n      <td>小宝宝睡觉时可能会通过摇晃脑袋这种方式来寻求自我安慰，如果宝宝晚上容易醒，要找原因。\\n\\n...</td>\n      <td>https://file.ihealthcoming.com/8ced5949-a9fe-4...</td>\n      <td>睡眠,易惊醒</td>\n      <td>1，宝宝50天睡觉时老是摇头，睡不实，晚上容易醒，爱哭闹，请问是缺钙吗？有些什么措施可以改变...</td>\n      <td>0</td>\n    </tr>\n    <tr>\n      <th>4</th>\n      <td>宝宝纯奶粉喂养，每次吃完奶都会含一口奶在嘴里，嘴巴里面的奶都发酵了，导致嘴巴好臭，请问这么小...</td>\n      <td>宝宝的口腔护理是很重要的，在宝宝乳牙萌出之前，宝宝的口腔护理要家长帮他进行。\\n\\n可以在每...</td>\n      <td>https://file.ihealthcoming.com/efc3f327-608f-4...</td>\n      <td>鹅口疮</td>\n      <td>宝宝纯奶粉喂养，每次吃完奶都会含一口奶在嘴里，嘴巴里面的奶都发酵了，导致嘴巴好臭，请问这么小...</td>\n      <td>0</td>\n    </tr>\n    <tr>\n      <th>...</th>\n      <td>...</td>\n      <td>...</td>\n      <td>...</td>\n      <td>...</td>\n      <td>...</td>\n      <td>...</td>\n    </tr>\n    <tr>\n      <th>25593</th>\n      <td>女宝宝四个月八天了，感觉腿有点像外歪的，还是长的太胖了的原因呢，体重8.5公斤。请问这种情况正常？</td>\n      <td>如果宝宝是母乳喂养，暂时不需要干预，如果奶粉喂养，平常要多注重宝宝的运动量，包括让宝宝多趴、...</td>\n      <td>https://file.ihealthcoming.com/817d8420-4a68-4...</td>\n      <td>生长发育</td>\n      <td>女宝宝四个月八天了，感觉腿有点像外歪的，还是长的太胖了的原因呢，体重8.5公斤。请问这种情况...</td>\n      <td>0</td>\n    </tr>\n    <tr>\n      <th>25594</th>\n      <td>医生，请问8个月卤门宽是缺钙么？</td>\n      <td>如果宝宝的囟门比较宽，不一定是缺钙的表现，平常有注重补充生理量的维生素D即可。\\n\\n如果囟...</td>\n      <td>https://file.ihealthcoming.com/a9b1d288-bc44-4...</td>\n      <td>其他</td>\n      <td>医生，请问8个月卤门宽是缺钙么？如果宝宝的囟门比较宽，不一定是缺钙的表现，平常有注重补充生理...</td>\n      <td>0</td>\n    </tr>\n    <tr>\n      <th>25595</th>\n      <td>忘抽中，急！医生您好，宝宝4个多月，出生到现在基本上每天都会吐奶，精神正常，出生6斤4，现在...</td>\n      <td>宝宝出生后到现在的体重增长，还算是正常范围内，出生之后，每天都会有呕奶，不影响增长，有可能是...</td>\n      <td>https://file.ihealthcoming.com/1d25ed42-e852-4...</td>\n      <td>髋关节发育异常,吐奶</td>\n      <td>忘抽中，急！医生您好，宝宝4个多月，出生到现在基本上每天都会吐奶，精神正常，出生6斤4，现在...</td>\n      <td>0</td>\n    </tr>\n    <tr>\n      <th>25596</th>\n      <td>宝宝从2个多月开始乳糖不耐受，后来经过4个多月才好，好了后一直不敢停乳糖酶，也添加了辅食，母...</td>\n      <td>需要注意两点。\\n\\n第一，宝宝有没有可能合并病毒性肠炎的问题。病毒性肠炎有可能会有呕吐、拉...</td>\n      <td>https://file.ihealthcoming.com/50546ae2-e91a-4...</td>\n      <td>肠炎,辅食,便便</td>\n      <td>宝宝从2个多月开始乳糖不耐受，后来经过4个多月才好，好了后一直不敢停乳糖酶，也添加了辅食，母...</td>\n      <td>0</td>\n    </tr>\n    <tr>\n      <th>25597</th>\n      <td>宝宝六个月，母乳喂养，男宝宝，这几天拉尿尿不湿里面有点红色的，是什么原因呢，还有就是这几天拉...</td>\n      <td>首先，要观察宝宝的尿道口有没有发红或异常的分泌物，需要警惕有没有尿路感染。\\n\\n因为尿路感...</td>\n      <td>https://file.ihealthcoming.com/f24e2dbd-238d-4...</td>\n      <td>尿道,尿液</td>\n      <td>宝宝六个月，母乳喂养，男宝宝，这几天拉尿尿不湿里面有点红色的，是什么原因呢，还有就是这几天拉...</td>\n      <td>0</td>\n    </tr>\n  </tbody>\n</table>\n<p>25598 rows × 6 columns</p>\n</div>"
     },
     "execution_count": 42,
     "metadata": {},
     "output_type": "execute_result"
    }
   ],
   "source": [
    "df = pd.read_csv(get_path(\"inferenced_data_type.csv\"), encoding=result['encoding'])\n",
    "df"
   ],
   "metadata": {
    "collapsed": false
   }
  },
  {
   "cell_type": "code",
   "execution_count": 3,
   "outputs": [
    {
     "name": "stderr",
     "output_type": "stream",
     "text": [
      "Some weights of the model checkpoint at D:\\PycharmProjects\\KLib\\data\\../models/bert-base-chinese were not used when initializing BertForSequenceClassification: ['cls.predictions.bias', 'cls.predictions.transform.LayerNorm.weight', 'cls.predictions.transform.dense.weight', 'cls.predictions.decoder.weight', 'cls.seq_relationship.bias', 'cls.seq_relationship.weight', 'cls.predictions.transform.dense.bias', 'cls.predictions.transform.LayerNorm.bias']\n",
      "- This IS expected if you are initializing BertForSequenceClassification from the checkpoint of a model trained on another task or with another architecture (e.g. initializing a BertForSequenceClassification model from a BertForPreTraining model).\n",
      "- This IS NOT expected if you are initializing BertForSequenceClassification from the checkpoint of a model that you expect to be exactly identical (initializing a BertForSequenceClassification model from a BertForSequenceClassification model).\n",
      "Some weights of BertForSequenceClassification were not initialized from the model checkpoint at D:\\PycharmProjects\\KLib\\data\\../models/bert-base-chinese and are newly initialized: ['classifier.weight', 'classifier.bias']\n",
      "You should probably TRAIN this model on a down-stream task to be able to use it for predictions and inference.\n"
     ]
    }
   ],
   "source": [
    "from models.model import Model\n",
    "model = Model(model_path=get_path(\"../models/bert-base-chinese\"))"
   ],
   "metadata": {
    "collapsed": false
   }
  },
  {
   "cell_type": "code",
   "execution_count": 12,
   "outputs": [],
   "source": [
    "df = pd.read_csv(get_path(\"test_data4type(utf-8-sig).csv\"), encoding='utf-8-sig')\n",
    "df.to_csv(get_path(\"test_data4type(ansi).csv\"), index=False, encoding='ansi')"
   ],
   "metadata": {
    "collapsed": false
   }
  },
  {
   "cell_type": "code",
   "execution_count": 32,
   "outputs": [
    {
     "name": "stdout",
     "output_type": "stream",
     "text": [
      "<class '_io.BufferedReader'>\n"
     ]
    }
   ],
   "source": [
    "import os\n",
    "checkpoint = 'model_checkpoint_utf8_30.pth'\n",
    "a = '../models/checkpoints' + '/'+ checkpoint\n",
    "with open(a, mode=\"rb\") as f:\n",
    "    print(type(f))"
   ],
   "metadata": {
    "collapsed": false
   }
  },
  {
   "cell_type": "code",
   "execution_count": 13,
   "outputs": [
    {
     "data": {
      "text/plain": "'combinedText'"
     },
     "execution_count": 13,
     "metadata": {},
     "output_type": "execute_result"
    }
   ],
   "source": [],
   "metadata": {
    "collapsed": false
   }
  },
  {
   "cell_type": "code",
   "execution_count": 12,
   "outputs": [
    {
     "data": {
      "text/plain": "True"
     },
     "execution_count": 12,
     "metadata": {},
     "output_type": "execute_result"
    }
   ],
   "source": [
    "\"combinedText\" in df.columns"
   ],
   "metadata": {
    "collapsed": false
   }
  },
  {
   "cell_type": "code",
   "execution_count": null,
   "outputs": [],
   "source": [],
   "metadata": {
    "collapsed": false
   }
  }
 ],
 "metadata": {
  "kernelspec": {
   "display_name": "Python 3",
   "language": "python",
   "name": "python3"
  },
  "language_info": {
   "codemirror_mode": {
    "name": "ipython",
    "version": 2
   },
   "file_extension": ".py",
   "mimetype": "text/x-python",
   "name": "python",
   "nbconvert_exporter": "python",
   "pygments_lexer": "ipython2",
   "version": "2.7.6"
  }
 },
 "nbformat": 4,
 "nbformat_minor": 0
}
